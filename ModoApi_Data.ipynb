{
 "cells": [
  {
   "cell_type": "code",
   "execution_count": 6,
   "metadata": {
    "collapsed": true
   },
   "outputs": [],
   "source": [
    "import urllib as ur\n",
    "import json\n",
    "import pandas as pd"
   ]
  },
  {
   "cell_type": "code",
   "execution_count": 7,
   "metadata": {
    "collapsed": true
   },
   "outputs": [],
   "source": [
    "def extract_Locations():\n",
    "    #Formatando a request\n",
    "    response = ur.request.urlopen('https://bookit.modo.coop/api/fleet').read().decode('UTF-8')\n",
    "    json_Neighbourhood = json.loads(response)\n",
    "    \n",
    "    response = ur.request.urlopen('https://bookit.modo.coop/api/fleet/locations').read().decode('UTF-8')\n",
    "    json_file = json.loads(response)\n",
    "    \n",
    "    NeighbourhoodsIDs = list(json_Neighbourhood['Neighbourhoods'].keys())\n",
    "\n",
    "    LocationsIDs = []\n",
    "\n",
    "    for i in NeighbourhoodsIDs:\n",
    "        LocationsIDs.append(list(json_file['Neighbourhoods'][i]['Locations'].keys()))\n",
    "\n",
    "    LocationsIDs = pd.DataFrame(LocationsIDs)\n",
    "\n",
    "    LocationsIDs = LocationsIDs.T\n",
    "    LocationsIDs.columns = NeighbourhoodsIDs\n",
    "\n",
    "    #Colunas são os ids das vizinhaças e as linhas os estacionamentos\n",
    "    return LocationsIDs"
   ]
  },
  {
   "cell_type": "code",
   "execution_count": 8,
   "metadata": {
    "collapsed": true
   },
   "outputs": [],
   "source": [
    "def extract_IDs():\n",
    "    #Formatando a request\n",
    "    response = ur.request.urlopen('https://bookit.modo.coop/api/fleet/locations').read().decode('UTF-8')\n",
    "    json_file = json.loads(response)\n",
    "\n",
    "    LocationsIDs = pd.DataFrame(extract_Locations())\n",
    "    Cars = []\n",
    "    auxCar = []\n",
    "    IDs = []\n",
    "    auxLoc = []\n",
    "\n",
    "    for i in LocationsIDs.columns:\n",
    "        for j in LocationsIDs[i]:\n",
    "            if j == None:\n",
    "                continue\n",
    "            auxCar.append(list(json_file['Neighbourhoods'][i]['Locations'][j]['Cars']))\n",
    "            #Percorre a lista com as IDs de localizações para pegar as multiplas ocorrências\n",
    "            lista = list(json_file['Neighbourhoods'][i]['Locations'][j]['Cars'])\n",
    "            for k in lista:\n",
    "                auxLoc.append(j)\n",
    "    \n",
    "    #Reformatando para uma lista unidimensional\n",
    "    for i in auxCar:\n",
    "        for j in i:\n",
    "            Cars.append(j)\n",
    "\n",
    "    LocIDs = pd.DataFrame(auxLoc)\n",
    "    CarIDs = pd.DataFrame(Cars) \n",
    "    IDs = pd.concat([LocIDs, CarIDs], axis=1)\n",
    "    IDs.columns = ['LocationID', 'CarID']\n",
    "    \n",
    "    return IDs"
   ]
  },
  {
   "cell_type": "code",
   "execution_count": 9,
   "metadata": {
    "collapsed": true
   },
   "outputs": [],
   "source": [
    "import datetime as dt\n",
    "\n",
    "auxTime = []\n",
    "time = str(dt.datetime.now())\n",
    "\n",
    "data = pd.DataFrame(extract_IDs())\n",
    "\n",
    "for i in range(len(data)):\n",
    "    auxTime.append(time)\n",
    "    \n",
    "auxTime = pd.DataFrame(auxTime)\n",
    "    \n",
    "data = pd.concat([data, auxTime], axis=1)\n",
    "data.columns = ['LocationID', 'CarID', 'CaptureTime']"
   ]
  },
  {
   "cell_type": "code",
   "execution_count": 11,
   "metadata": {},
   "outputs": [
    {
     "name": "stdout",
     "output_type": "stream",
     "text": [
      "Index out-of-bounds\n"
     ]
    }
   ],
   "source": [
    "IDstr = ''\n",
    "Start = []\n",
    "End = []\n",
    "Duration = []\n",
    "FullyA = []\n",
    "PartlyA = []\n",
    "NotA = []\n",
    "ReqStart = []\n",
    "ReqEnd = []\n",
    "ReqDuration = []\n",
    "\n",
    "for i in range(len(data.CarID)):\n",
    "    IDstr = ''\n",
    "    if (i % 20 == 0):\n",
    "        j = i\n",
    "        #Separa as IDs em conjuntos de 20\n",
    "        for k in range(j,i+20):\n",
    "            #Evita indices inválidos\n",
    "            try:\n",
    "                if (k < i+19):\n",
    "                    IDstr += str(data.CarID.iloc[k])+','\n",
    "                else:\n",
    "                    IDstr += str(data.CarID.iloc[k])\n",
    "            except:\n",
    "                print('Index out-of-bounds')\n",
    "                break\n",
    "        \n",
    "        #Requisição de 20 IDs\n",
    "        response = ur.request.urlopen('https://bookit.modo.coop/api/availability?cars='+IDstr+'').read().decode('UTF-8')\n",
    "        json_Availability = json.loads(response)\n",
    "        #Dados da requisição\n",
    "        for i in range(20):\n",
    "            ReqStart.append(json_Availability['Request']['RequestStart'])\n",
    "            ReqEnd.append(json_Availability['Request']['RequestEnd'])\n",
    "            ReqDuration.append(json_Availability['Request']['RequestDuration'])\n",
    "        \n",
    "        #Convertendo o dict dos IDs em uma string\n",
    "        keys = list(json_Availability['Data'].keys())\n",
    "        IDstr = IDstr.split(',')\n",
    "        \n",
    "        #Se ocorrer o erro de a ID não ter sido requisitada é completada com NaN\n",
    "        for c in range(len(IDstr)):\n",
    "            try:\n",
    "                #Verifica se a ID foi ou não requisitada\n",
    "                keys.index(IDstr[c])\n",
    "                #Coletando dados\n",
    "                Start.append(json_Availability['Data'][str(IDstr[c])]['StartTime'])\n",
    "                End.append(json_Availability['Data'][str(IDstr[c])]['EndTime'])\n",
    "                Duration.append(json_Availability['Data'][str(IDstr[c])]['Duration'])\n",
    "                \n",
    "                #Condições para disponibilidade\n",
    "                if (json_Availability['Data'][str(IDstr[c])]['StartTime'] == False):\n",
    "                    FullyA.append(0)\n",
    "                    PartlyA.append(0)\n",
    "                    NotA.append(1)\n",
    "                #Para os carros totalmente disponíveis o tempo usado é o da ultima requisição\n",
    "                elif (json_Availability['Data'][str(IDstr[c])]['Duration'] == str(ReqDuration[-1])):\n",
    "                    FullyA.append(1)\n",
    "                    PartlyA.append(0)\n",
    "                    NotA.append(0)\n",
    "                else:\n",
    "                    FullyA.append(0)\n",
    "                    PartlyA.append(1)\n",
    "                    NotA.append(0)\n",
    "                \n",
    "            except:\n",
    "                Start.append('NaN')\n",
    "                End.append('NaN')\n",
    "                FullyA.append(0)\n",
    "                PartlyA.append(0)\n",
    "                NotA.append(1)\n",
    "            \n",
    "Start = pd.DataFrame(Start)\n",
    "End = pd.DataFrame(End)\n",
    "Duration = pd.DataFrame(Duration)\n",
    "FullyA = pd.DataFrame(FullyA)\n",
    "PartlyA = pd.DataFrame(PartlyA)\n",
    "NotA = pd.DataFrame(NotA)\n",
    "ReqStart = pd.DataFrame(ReqStart)\n",
    "ReqEnd = pd.DataFrame(ReqEnd)\n",
    "ReqDuration = pd.DataFrame(ReqDuration)\n",
    "\n",
    "data = pd.concat([data, FullyA, PartlyA, NotA, Start, End, Duration, ReqStart, ReqEnd, ReqDuration], axis=1)\n",
    "data.columns = ['LocationID', 'CarID', 'CaptureTime', 'FullyAvailable', 'PartlyAvailable', 'NotAvailable',\n",
    "                'StartTime', 'EndTime', 'Duration', 'RequestStart', 'RequestEnd', 'RequestDuration']\n"
   ]
  },
  {
   "cell_type": "code",
   "execution_count": 13,
   "metadata": {
    "collapsed": true
   },
   "outputs": [],
   "source": [
    "data.to_csv('ModoAPI_Data.csv', mode='a')"
   ]
  },
  {
   "cell_type": "code",
   "execution_count": null,
   "metadata": {
    "collapsed": true
   },
   "outputs": [],
   "source": []
  }
 ],
 "metadata": {
  "kernelspec": {
   "display_name": "Python 3",
   "language": "python",
   "name": "python3"
  },
  "language_info": {
   "codemirror_mode": {
    "name": "ipython",
    "version": 3
   },
   "file_extension": ".py",
   "mimetype": "text/x-python",
   "name": "python",
   "nbconvert_exporter": "python",
   "pygments_lexer": "ipython3",
   "version": "3.6.1"
  }
 },
 "nbformat": 4,
 "nbformat_minor": 2
}
