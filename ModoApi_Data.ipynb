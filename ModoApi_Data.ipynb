{
 "cells": [
  {
   "cell_type": "code",
   "execution_count": null,
   "metadata": {
    "collapsed": true
   },
   "outputs": [],
   "source": [
    "import urllib as ur\n",
    "import json\n",
    "import pandas as pd\n",
    "import datetime\n",
    "import pytz"
   ]
  },
  {
   "cell_type": "code",
   "execution_count": null,
   "metadata": {
    "collapsed": true
   },
   "outputs": [],
   "source": [
    "# Converte hora dada a time zone atual, a zona a ser convertida e a diferença de tempo\n",
    "def convert_datetime_timezone(dt, tz1, tz2):\n",
    "    \"\"\"\n",
    "    Converte uma hora no fuso UTC ou São Paulo para um provável fuso de Vancouver.\n",
    "    \n",
    "    Parameters\n",
    "    ------------\n",
    "    dt : unix timestamp\n",
    "        Timestamp a ser convertido para outro fuso horário.\n",
    "    \n",
    "    tz1, tz2 : Timezone String\n",
    "        Time zone atual e a que a hora irá ser convertida.\n",
    "    \n",
    "    Returns\n",
    "    ----------\n",
    "    dt : unix timestamp\n",
    "        Timestamp já convertida para o fuso de Vancouver.\n",
    "    \n",
    "    \"\"\"    \n",
    "    \n",
    "    tz1 = pytz.timezone(tz1)\n",
    "    tz2 = pytz.timezone(tz2)\n",
    "\n",
    "    dt = datetime.datetime.fromtimestamp(dt)\n",
    "    dt = datetime.datetime.strptime(str(dt),\"%Y-%m-%d %H:%M:%S\")\n",
    "    dt = tz1.localize(dt)\n",
    "    dt = dt.astimezone(tz2)\n",
    "    \n",
    "    try:\n",
    "        # Fuso horário comum de Vancouver\n",
    "        dt = datetime.datetime.strptime(str(dt),\"%Y-%m-%d %H:%M:%S-08:00\")\n",
    "    except:\n",
    "        # Fuso horário característico de horário de verão em Vancouver\n",
    "        dt = datetime.datetime.strptime(str(dt),\"%Y-%m-%d %H:%M:%S-07:00\")\n",
    "    \n",
    "    dt = int(dt.timestamp())\n",
    "\n",
    "    return dt"
   ]
  },
  {
   "cell_type": "code",
   "execution_count": null,
   "metadata": {
    "collapsed": true
   },
   "outputs": [],
   "source": [
    "# Coletando a hora atual de vancouver\n",
    "vanc_tz = pytz.timezone('America/Vancouver')\n",
    "time = datetime.datetime.now(tz=vanc_tz)"
   ]
  },
  {
   "cell_type": "code",
   "execution_count": null,
   "metadata": {
    "collapsed": true
   },
   "outputs": [],
   "source": [
    "# Requisição a api\n",
    "try:\n",
    "    i = 0\n",
    "    response = None\n",
    "    # Loop para evitar requisições demoradas\n",
    "    while (response == None and i < 5):\n",
    "        response = ur.request.urlopen('https://bookit.modo.coop/api/v2/availability', timeout=20).read().decode('UTF-8')\n",
    "        json_Availability = json.loads(response)\n",
    "        \n",
    "        # Adquirindo todos os ids dos carros \n",
    "        car_ids = list(json_Availability['Response']['Availability'].keys())\n",
    "\n",
    "        i += 1\n",
    "except Exception as e:\n",
    "    print('Erro na requisição: ' + str(e))"
   ]
  },
  {
   "cell_type": "code",
   "execution_count": null,
   "metadata": {
    "collapsed": true
   },
   "outputs": [],
   "source": [
    "cars = []\n",
    "start = []\n",
    "end = []\n",
    "location = []\n",
    "\n",
    "i = 0\n",
    "# Percorrendo todos os ids dos carros para adquirir seus intervalos de disponibilidade\n",
    "while (i < len(car_ids)):\n",
    "    carAvailability = json_Availability['Response']['Availability'][str(car_ids[i])]['Availability']\n",
    "    \n",
    "    # Loop para caso haja mais de um intervalo de disponibilidade\n",
    "    for j in range(len(carAvailability)):\n",
    "        cars.append(car_ids[i])\n",
    "        start.append(convert_datetime_timezone(int(carAvailability[j]['StartTime']), 'America/Sao_Paulo', 'America/Vancouver'))\n",
    "        end.append(convert_datetime_timezone(int(carAvailability[j]['EndTime']), 'America/Sao_Paulo', 'America/Vancouver'))\n",
    "        location.append(carAvailability[j]['LocationID'])\n",
    "    \n",
    "    i += 1\n",
    "    \n",
    "cars = pd.DataFrame(cars, columns=['CarID'])\n",
    "start = pd.DataFrame(start, columns=['StartTime'])\n",
    "end = pd.DataFrame(end, columns=['EndTime'])\n",
    "location = pd.DataFrame(location, columns=['LocationID'])"
   ]
  },
  {
   "cell_type": "code",
   "execution_count": null,
   "metadata": {
    "collapsed": true
   },
   "outputs": [],
   "source": [
    "# Valores de inicio e fim da requisição\n",
    "req_start = convert_datetime_timezone(int(json_Availability['Request']['start']), 'America/Sao_Paulo', 'America/Vancouver')\n",
    "req_end = convert_datetime_timezone(int(json_Availability['Request']['end']), 'America/Sao_Paulo', 'America/Vancouver')"
   ]
  },
  {
   "cell_type": "code",
   "execution_count": null,
   "metadata": {
    "collapsed": true
   },
   "outputs": [],
   "source": [
    "# Armazenando a hora da captura e seu timestamp\n",
    "cap_time = []\n",
    "cap_timestamp = []\n",
    "request_start = []\n",
    "request_end = []\n",
    "\n",
    "for i in range(len(cars)):\n",
    "    cap_time.append(time)\n",
    "    request_start.append(req_start)\n",
    "    request_end.append(req_end)\n",
    "    \n",
    "cap_time = pd.DataFrame(cap_time, columns=['Capture_time'])\n",
    "request_start = pd.DataFrame(request_start, columns=['RequestStart'])\n",
    "request_end = pd.DataFrame(request_end, columns=['RequestEnd'])"
   ]
  },
  {
   "cell_type": "code",
   "execution_count": null,
   "metadata": {
    "collapsed": true
   },
   "outputs": [],
   "source": [
    "data = pd.concat([cap_time, location, cars, start, end, request_start, request_end], axis=1)"
   ]
  },
  {
   "cell_type": "code",
   "execution_count": null,
   "metadata": {
    "collapsed": true
   },
   "outputs": [],
   "source": [
    "from os.path import exists \n",
    "\n",
    "# Verificando se já existe o arquivo, para evitar a repetição dos labels das colunas\n",
    "if (exists('modo_data.csv')):\n",
    "    data.to_csv('modo_data.csv', mode='a', header=False, index=False, encoding='utf-8')\n",
    "else:\n",
    "    data.to_csv('modo_data.csv', index=False, encoding='utf-8')"
   ]
  }
 ],
 "metadata": {
  "kernelspec": {
   "display_name": "Python 3",
   "language": "python",
   "name": "python3"
  },
  "language_info": {
   "codemirror_mode": {
    "name": "ipython",
    "version": 3
   },
   "file_extension": ".py",
   "mimetype": "text/x-python",
   "name": "python",
   "nbconvert_exporter": "python",
   "pygments_lexer": "ipython3",
   "version": "3.6.1"
  }
 },
 "nbformat": 4,
 "nbformat_minor": 2
}
