{
 "cells": [
  {
   "cell_type": "code",
   "execution_count": 7,
   "metadata": {
    "collapsed": true
   },
   "outputs": [],
   "source": [
    "%matplotlib inline\n",
    "import pandas as pd\n",
    "import matplotlib.pyplot as plt\n",
    "import datetime\n",
    "import pytz\n",
    "import urllib as ur\n",
    "import json"
   ]
  },
  {
   "cell_type": "markdown",
   "metadata": {},
   "source": [
    "## Funções para auxiliar a manipulação do tempo"
   ]
  },
  {
   "cell_type": "code",
   "execution_count": 8,
   "metadata": {
    "collapsed": true
   },
   "outputs": [],
   "source": [
    "# Converte hora dada a time zone atual, a zona a ser convertida e a diferença de tempo\n",
    "def convert_datetime_timezone(dt, tz1, tz2, str_diff):\n",
    "    tz1 = pytz.timezone(tz1)\n",
    "    tz2 = pytz.timezone(tz2)\n",
    "\n",
    "    dt = datetime.datetime.fromtimestamp(dt)\n",
    "    dt = datetime.datetime.strptime(str(dt),\"%Y-%m-%d %H:%M:%S\")\n",
    "    dt = tz1.localize(dt)\n",
    "    dt = dt.astimezone(tz2)\n",
    "    dt = datetime.datetime.strptime(str(dt),\"%Y-%m-%d %H:%M:%S\"+str_diff)\n",
    "    dt = int(dt.timestamp())\n",
    "\n",
    "    return dt"
   ]
  },
  {
   "cell_type": "code",
   "execution_count": 9,
   "metadata": {
    "collapsed": true
   },
   "outputs": [],
   "source": [
    "# Faz a diferença entre duas horas dadas e retorna em minutos\n",
    "def Hour_Diff(h1,h2):\n",
    "    h1Aux = datetime.datetime.fromtimestamp(h1)\n",
    "    h2Aux = datetime.datetime.fromtimestamp(h2)\n",
    "    diff = abs((h1Aux - h2Aux)).total_seconds()/60\n",
    "    \n",
    "    return diff"
   ]
  },
  {
   "cell_type": "markdown",
   "metadata": {},
   "source": [
    "## Requisitando Bairros e seus respectivos estacionamentos, carros e coordenadas"
   ]
  },
  {
   "cell_type": "code",
   "execution_count": 10,
   "metadata": {
    "collapsed": true
   },
   "outputs": [],
   "source": [
    "# Request na api para pegar bairros, localizações e ids dos carros\n",
    "\n",
    "#Formatando a request\n",
    "response = ur.request.urlopen('https://bookit.modo.coop/api/fleet').read().decode('UTF-8')\n",
    "json_Neighbourhood = json.loads(response)\n",
    "\n",
    "response = ur.request.urlopen('https://bookit.modo.coop/api/fleet/locations').read().decode('UTF-8')\n",
    "json_file = json.loads(response)\n",
    "\n",
    "NeighbourhoodsIDs = list(json_Neighbourhood['Neighbourhoods'].keys())\n",
    "\n",
    "location_id = []\n",
    "\n",
    "for i in NeighbourhoodsIDs:\n",
    "    for j in list(json_file['Neighbourhoods'][i]['Locations'].keys()):\n",
    "        location_id.append([i,j])\n",
    "\n",
    "# Dataframe com bairros e localizações\n",
    "location_id = pd.DataFrame(location_id, columns=['neighbourhoods', 'locations'])\n",
    "\n",
    "Cars = []\n",
    "auxCar = []\n",
    "IDs = []\n",
    "auxLoc = []\n",
    "coord = []\n",
    "\n",
    "for i in range(len(location_id)):\n",
    "        neighbourhood = location_id['neighbourhoods'].iloc[i]\n",
    "        loc = location_id['locations'].iloc[i]\n",
    "        auxCar.append(list(json_file['Neighbourhoods'][neighbourhood]['Locations'][loc]['Cars']))\n",
    "        \n",
    "        # Percorre a lista com as IDs de localizações para pegar as multiplas ocorrências\n",
    "        lista = list(json_file['Neighbourhoods'][neighbourhood]['Locations'][loc]['Cars'])\n",
    "        for k in lista:\n",
    "            auxLoc.append([neighbourhood, loc])\n",
    "            \n",
    "        # Armazena as localizações e suas respectivas coordenadas\n",
    "        coord.append([loc, json_file['Neighbourhoods'][neighbourhood]['Locations'][loc]['Latitude'], \n",
    "                      json_file['Neighbourhoods'][neighbourhood]['Locations'][loc]['Longitude']])\n",
    "\n",
    "#Reformatando para uma lista unidimensionalfor i in auxCar:\n",
    "for i in auxCar:    \n",
    "    for j in i:\n",
    "        Cars.append(j)\n",
    "\n",
    "Cars = pd.DataFrame(Cars, dtype=int)\n",
    "location_id = pd.DataFrame(auxLoc, dtype=int)\n",
    "location_id = pd.concat([location_id, Cars], axis=1)\n",
    "location_id.columns = ['neighbourhood', 'location', 'car_id']\n",
    "\n",
    "loc_coord = pd.DataFrame(coord, columns=['location', 'lat', 'lon'])\n",
    "\n",
    "# Ordenando o dataframe pelas localizações\n",
    "location_id = location_id.sort_values(by=['location'])"
   ]
  },
  {
   "cell_type": "code",
   "execution_count": 11,
   "metadata": {
    "collapsed": true
   },
   "outputs": [],
   "source": [
    "# Separando carros com suas respectivas coordenadas\n",
    "car_coord = []\n",
    "\n",
    "for i in range(len(loc_coord)):\n",
    "    # Pegando todas localizações a partir das localizações salvas no loc_coord\n",
    "    aux = location_id[location_id['location'] == int(loc_coord['location'].iloc[i])]\n",
    "    quant = len(aux)\n",
    "    \n",
    "    # Pegando as multiplas ocorrências de localizações para ter as coordenadas de cada carro\n",
    "    for j in range(quant):\n",
    "        car_coord.append([aux['location'].iloc[j], aux['car_id'].iloc[j], loc_coord['lat'].iloc[i], loc_coord['lon'].iloc[i]])\n",
    "\n",
    "car_coord = pd.DataFrame(car_coord, columns=['location', 'car_id', 'lat', 'lon'])"
   ]
  },
  {
   "cell_type": "markdown",
   "metadata": {},
   "source": [
    "## Fazendo a média da quantidade de viagens para cada hora"
   ]
  },
  {
   "cell_type": "code",
   "execution_count": 12,
   "metadata": {
    "collapsed": true
   },
   "outputs": [],
   "source": [
    "# CSV criado a partir dos dados coletados do arquivo ModoApi_Data_Filter\n",
    "dfTravels = pd.read_csv('Travels.csv', usecols=[1,2,3,4])\n",
    "dfTravels = dfTravels.sort_values(by='car_id')"
   ]
  },
  {
   "cell_type": "code",
   "execution_count": 13,
   "metadata": {
    "collapsed": true
   },
   "outputs": [],
   "source": [
    "def cont_travels(df):\n",
    "    df_cont = []\n",
    "    id_prox = df['car_id'].iloc[1]\n",
    "    id_atual = df['car_id'].iloc[0]\n",
    "    tempo = []\n",
    "\n",
    "    for i in range(len(df)):\n",
    "        try:\n",
    "            id_prox = df['car_id'].iloc[i+1]\n",
    "            id_atual = df['car_id'].iloc[i]\n",
    "        except:\n",
    "            pass\n",
    "\n",
    "        # Se irá mudar de id então é registrado o somatório dos intervalos de tempo estacionado\n",
    "        # i == len(df)-1 para não pular o ultimo\n",
    "        if (id_prox != id_atual or i == len(df)-1):\n",
    "            #ver se tem mais de uma em um dia e contar só uma\n",
    "            hour = datetime.datetime.fromtimestamp(df['start'].iloc[i]).hour\n",
    "            auxHour = [0] * 24\n",
    "            auxHour[hour] += 1\n",
    "            tempo.append(auxHour)\n",
    "            \n",
    "            #Somando todas a quantidade de ocorrências de cada horário\n",
    "            tempo = pd.DataFrame(tempo)\n",
    "            # Dividindo pelo numero de dias\n",
    "            # fazer isso nas estações\n",
    "            tempo = list(pd.Series.sum(tempo))\n",
    "            \n",
    "            tempo = [id_atual] + tempo\n",
    "            \n",
    "            df_cont.append(tempo)\n",
    "            tempo = []\n",
    "        else:\n",
    "            # Verificando a hora de inicio da viagem e somando em uma lista que representa as 24h\n",
    "            hour = datetime.datetime.fromtimestamp(df['start'].iloc[i]).hour\n",
    "            auxHour = [0] * 24\n",
    "            auxHour[hour] += 1\n",
    "            #Armazenando a quantidade de viagens em dada hora\n",
    "            tempo.append(auxHour)\n",
    "    \n",
    "    #Labels das colunas\n",
    "    labels = list(range(-1,24))\n",
    "    [format(x,'02d') for x in labels]\n",
    "    labels[0] = 'car_id'\n",
    "    \n",
    "    df_cont = pd.DataFrame(df_cont, columns=labels)\n",
    "    df_cont = df_cont.sort_values(by=['car_id'])\n",
    "    \n",
    "    return df_cont"
   ]
  },
  {
   "cell_type": "code",
   "execution_count": 40,
   "metadata": {
    "collapsed": true,
    "scrolled": true
   },
   "outputs": [],
   "source": [
    "hours = cont_travels(dfTravels)"
   ]
  },
  {
   "cell_type": "code",
   "execution_count": 41,
   "metadata": {
    "collapsed": true
   },
   "outputs": [],
   "source": [
    "# Preparando o dataframe para colocar a location, latitude e longitude\n",
    "lat = [0]*len(hours)\n",
    "lon = [0]*len(hours)\n",
    "location = [0]*len(hours)\n",
    "\n",
    "lat = pd.DataFrame(lat, columns=['lat'])\n",
    "lon = pd.DataFrame(lon, columns=['lon'])\n",
    "location = pd.DataFrame(location, columns=['location'])\n",
    "\n",
    "hours = pd.concat([hours, location, lat, lon], axis=1)"
   ]
  },
  {
   "cell_type": "code",
   "execution_count": null,
   "metadata": {},
   "outputs": [],
   "source": [
    "# Colocando as coordenadas de cada carro\n",
    "for i in range(len(hours)):\n",
    "    try:\n",
    "        coord = car_coord[car_coord['car_id'] == hours['car_id'].iloc[i]]\n",
    "        hours['lat'].iloc[i] = coord['lat'].iloc[0]\n",
    "        hours['lon'].iloc[i] = coord['lon'].iloc[0]\n",
    "        hours['location'].iloc[i] = coord['location'].iloc[0]\n",
    "    except Exception as e:\n",
    "        # Carros que sairam da frota\n",
    "        print(e)\n",
    "        print('id:'+str(hours['car_id'].iloc[i]))\n",
    "\n",
    "hours = hours.sort_values(by='location')"
   ]
  },
  {
   "cell_type": "code",
   "execution_count": null,
   "metadata": {
    "collapsed": true
   },
   "outputs": [],
   "source": [
    "# Somando todos os valores para cada estação\n",
    "while(len(hours) > 456):\n",
    "    for i in range(len(hours)):\n",
    "        try:\n",
    "            if (hours['location'].iloc[i] == hours['location'].iloc[i+1]):\n",
    "                print('Antes:')\n",
    "                print(len(hours))\n",
    "                for j in range(24):\n",
    "                    hours[j].iloc[i] = hours[j].iloc[i] + hours[j].iloc[i+1]\n",
    "                hours = hours.drop(hours.index[i+1])\n",
    "                hours.index = range(len(hours))\n",
    "                print('Depois:')\n",
    "                print(len(hours))\n",
    "        except:\n",
    "            break"
   ]
  },
  {
   "cell_type": "code",
   "execution_count": null,
   "metadata": {},
   "outputs": [],
   "source": [
    "# Ordenando por estacionamento\n",
    "hours = hours.sort_values(by='location')\n",
    "\n",
    "# Dividindo pela quantidade de dias e numero de carros\n",
    "for i in range(len(hours)):\n",
    "    for j in range(24):\n",
    "        hours[j].iloc[i] = hours[j].iloc[i] / 31"
   ]
  },
  {
   "cell_type": "markdown",
   "metadata": {},
   "source": [
    "## Normalizando os dados"
   ]
  },
  {
   "cell_type": "code",
   "execution_count": 45,
   "metadata": {
    "collapsed": true
   },
   "outputs": [],
   "source": [
    "data = pd.DataFrame()\n",
    "aux  = pd.DataFrame()\n",
    "\n",
    "# Organizando todos os dados em uma lista\n",
    "for i in range(0,24):\n",
    "    hora = [i] * len(hours)\n",
    "    hora = pd.DataFrame(hora)\n",
    "    \n",
    "    hours.dropna(how='any', axis=0, inplace=True)\n",
    "    \n",
    "    aux = pd.concat([hours['car_id'], hours[i], hora], axis=1)\n",
    "    aux.columns = ['car_id', 'mean', 'hour']\n",
    "    \n",
    "    data = data.append(aux)\n",
    "\n",
    "# Normalizando pelo maior\n",
    "maior = data['mean'].max()\n",
    "data['mean'] = data['mean'] / maior"
   ]
  },
  {
   "cell_type": "code",
   "execution_count": 46,
   "metadata": {
    "collapsed": true
   },
   "outputs": [],
   "source": [
    "# Reorganizando o dataframe com os dados já normalizados\n",
    "for i in range(24):\n",
    "    aux = data[data['hour'] == i]\n",
    "    hours[i] = aux['mean']"
   ]
  },
  {
   "cell_type": "code",
   "execution_count": 47,
   "metadata": {
    "collapsed": true
   },
   "outputs": [],
   "source": [
    "# Ordenando e concatenando os valores com as coordenadas\n",
    "hours = hours.sort_values(by='car_id')\n",
    "car_coord = car_coord.sort_values(by='car_id')\n",
    "\n",
    "aux_csv = hours\n",
    "aux_csv.dropna(how='any', axis=0, inplace=True)"
   ]
  },
  {
   "cell_type": "code",
   "execution_count": 48,
   "metadata": {
    "collapsed": true
   },
   "outputs": [],
   "source": [
    "# Csv's de cada hora\n",
    "for i in range(24):\n",
    "    aux_csv[['lat', 'lon', i]].to_csv('ViagensPorHora/Hour'+str(i)+'.csv')"
   ]
  },
  {
   "cell_type": "markdown",
   "metadata": {},
   "source": [
    "## Plotagem em mapas de calor de cada hora"
   ]
  },
  {
   "cell_type": "code",
   "execution_count": 52,
   "metadata": {
    "collapsed": true
   },
   "outputs": [],
   "source": [
    "import geoplotlib as gpl\n",
    "from geoplotlib.utils import read_csv, BoundingBox, DataAccessObject"
   ]
  },
  {
   "cell_type": "code",
   "execution_count": null,
   "metadata": {
    "scrolled": true
   },
   "outputs": [],
   "source": [
    "# Imprimindo todas as 24 horas\n",
    "for i in range(0,24):\n",
    "    \n",
    "    hora = str(i)\n",
    "    \n",
    "    # Lendo csv com dados de tempo estacionado médio, latitude, longitude de cada estacionamento\n",
    "    location = pd.read_csv('ViagensPorHora/Hour'+hora+'.csv', usecols=[1,2,3])\n",
    "    data = location\n",
    "    # Multiplicando os valores por um escalar para se tornarem mais visíveis\n",
    "    location[hora] = location[hora] * 100\n",
    "    location_aux = []\n",
    "    \n",
    "    \n",
    "    # Utilizando um auxiliar para gerar repetições de incidencias para a plotagem no mapa de calor\n",
    "    for i in range(len(location)):\n",
    "        for j in range(int(location[hora].iloc[i])):\n",
    "            location_aux.append([location['lat'].iloc[i], location['lon'].iloc[i]])\n",
    "    \n",
    "    location_aux = pd.DataFrame(location_aux, columns=['lat', 'lon'])\n",
    "    \n",
    "    # Vancouver    \n",
    "    \n",
    "    gpl.kde(location_aux, bw=3, cut_below=1e-4, cmap='jet', alpha=150 )\n",
    "    data = DataAccessObject(pd.DataFrame({'lat': [],'lon': []}))\n",
    "    gpl.hist(data, scalemin=0, scalemax=100, cmap='jet', colorscale='lin', alpha=190)\n",
    "    \n",
    "    # Coordenadas para o mapa focar em Vancouver\n",
    "    lat = pd.DataFrame([49.246292, 49.262428, 49.24966])\n",
    "    lon = pd.DataFrame([-123.11554, -123.116226, -123.04464])\n",
    "    \n",
    "    gpl.set_bbox(BoundingBox.from_points(lon[0], lat[0]))\n",
    "    gpl.request_zoom(12)\n",
    "    gpl.set_window_size(1280,700)\n",
    "    gpl.savefig('ViagensPorHora/ViagensPorHoraPNGs/ViagensTodos/vanc_'+hora)\n",
    "    \n",
    "    # Victoria\n",
    "    \n",
    "    gpl.kde(location_aux, bw=3, cut_below=1e-4, cmap='jet', alpha=150 )\n",
    "    data = DataAccessObject(pd.DataFrame({'lat': [],'lon': []}))\n",
    "    gpl.hist(data, scalemin=0, scalemax=100, cmap='jet', colorscale='lin', alpha=190)\n",
    "    \n",
    "    # Coordenadas para o mapa focar em Victoria\n",
    "    lat = pd.DataFrame([48.42666, 48.44344, 48.44560])\n",
    "    lon = pd.DataFrame([-123.36027,-123.35853,-123.33673])\n",
    "    \n",
    "    gpl.set_bbox(BoundingBox.from_points(lon[0], lat[0]))\n",
    "    gpl.request_zoom(13)\n",
    "    gpl.set_window_size(1280,700)\n",
    "    \n",
    "    gpl.savefig('ViagensPorHora/ViagensPorHoraPNGs/ViagensTodos/vic_'+hora)"
   ]
  },
  {
   "cell_type": "code",
   "execution_count": null,
   "metadata": {
    "collapsed": true
   },
   "outputs": [],
   "source": []
  }
 ],
 "metadata": {
  "kernelspec": {
   "display_name": "Python 3",
   "language": "python",
   "name": "python3"
  },
  "language_info": {
   "codemirror_mode": {
    "name": "ipython",
    "version": 3
   },
   "file_extension": ".py",
   "mimetype": "text/x-python",
   "name": "python",
   "nbconvert_exporter": "python",
   "pygments_lexer": "ipython3",
   "version": "3.6.1"
  }
 },
 "nbformat": 4,
 "nbformat_minor": 2
}
