{
 "cells": [
  {
   "cell_type": "code",
   "execution_count": 1,
   "metadata": {
    "collapsed": true,
    "scrolled": true
   },
   "outputs": [],
   "source": [
    "import pandas as pd\n",
    "import datetime\n",
    "import pytz\n",
    "\n",
    "df = pd.read_csv('ModoAPI_Data.csv')"
   ]
  },
  {
   "cell_type": "markdown",
   "metadata": {},
   "source": [
    "## Filtrando e formatando os dados"
   ]
  },
  {
   "cell_type": "code",
   "execution_count": 2,
   "metadata": {
    "collapsed": true
   },
   "outputs": [],
   "source": [
    "#Limpando dados\n",
    "df.drop(['Unnamed: 0'], axis=1, inplace=True)\n",
    "df = df[df['CarID'] != 'CarID']\n",
    "df.dropna(thresh=9, inplace=True)\n",
    "df.dropna(thresh=6, inplace=True)"
   ]
  },
  {
   "cell_type": "code",
   "execution_count": 3,
   "metadata": {
    "collapsed": true
   },
   "outputs": [],
   "source": [
    "# Formatando os dados para tipos mais apropriados\n",
    "types = {\n",
    "    'LocationID': int,\n",
    "    'CarID': int,\n",
    "    'FullyAvailable': float,\n",
    "    'PartlyAvailable': float,\n",
    "    'NotAvailable': float,\n",
    "    'StartTime': str,\n",
    "    'EndTime': str,\n",
    "    'Duration': str,\n",
    "    'RequestStart': int,\n",
    "    'RequestEnd': int,\n",
    "    'RequestDuration': int    \n",
    "}\n",
    "\n",
    "df = df.astype(dtype=types)\n",
    "df['CaptureTime'] = pd.to_datetime(df['CaptureTime'])\n",
    "\n",
    "df.drop(['LocationID', 'Duration', 'RequestDuration'], axis=1, inplace=True)\n",
    "\n",
    "# Coletando os IDs dos carros\n",
    "car_ids = []\n",
    "for i in range(len(df)):\n",
    "    if (df['CarID'].iloc[i] in car_ids):\n",
    "        continue\n",
    "    else:\n",
    "        car_ids.append(df['CarID'].iloc[i])\n"
   ]
  },
  {
   "cell_type": "markdown",
   "metadata": {},
   "source": [
    "## Funções para manipulação do tempo"
   ]
  },
  {
   "cell_type": "code",
   "execution_count": 4,
   "metadata": {
    "collapsed": true
   },
   "outputs": [],
   "source": [
    "# Converte hora dada a time zone atual, a zona a ser convertida e a diferença de tempo\n",
    "def convert_datetime_timezone(dt, tz1, tz2, str_diff):\n",
    "    tz1 = pytz.timezone(tz1)\n",
    "    tz2 = pytz.timezone(tz2)\n",
    "\n",
    "    dt = datetime.datetime.fromtimestamp(dt)\n",
    "    dt = datetime.datetime.strptime(str(dt),\"%Y-%m-%d %H:%M:%S\")\n",
    "    dt = tz1.localize(dt)\n",
    "    dt = dt.astimezone(tz2)\n",
    "    try:\n",
    "        dt = datetime.datetime.strptime(str(dt),\"%Y-%m-%d %H:%M:%S\"+str_diff)\n",
    "    # Except para evitar um erro pela mudança de fuso horário\n",
    "    except Exception as e:\n",
    "        print(e)\n",
    "        # Diminui 1 hora para se adaptar\n",
    "        dt = dt - datetime.timedelta(hours=1)\n",
    "        dt = datetime.datetime.strptime(str(dt),\"%Y-%m-%d %H:%M:%S\"+'-08:00')\n",
    "    \n",
    "    dt = int(dt.timestamp())\n",
    "\n",
    "    return dt"
   ]
  },
  {
   "cell_type": "code",
   "execution_count": 5,
   "metadata": {
    "collapsed": true
   },
   "outputs": [],
   "source": [
    "# Faz a diferença entre duas horas dadas e retorna em minutos\n",
    "def Hour_Diff(h1,h2):\n",
    "    h1Aux = datetime.datetime.fromtimestamp(h1)\n",
    "    h2Aux = datetime.datetime.fromtimestamp(h2)\n",
    "    diff = abs((h1Aux - h2Aux)).total_seconds()/60\n",
    "    \n",
    "    return diff"
   ]
  },
  {
   "cell_type": "markdown",
   "metadata": {},
   "source": [
    "## Filtro para classificação dos dados"
   ]
  },
  {
   "cell_type": "code",
   "execution_count": 6,
   "metadata": {
    "collapsed": true
   },
   "outputs": [],
   "source": [
    "new_travel = []\n",
    "cancel = []\n",
    "parked = []\n",
    "special_travel = []\n",
    "\n",
    "for j in range(len(car_ids)):\n",
    "    carID = car_ids[j]\n",
    "    carDF = []\n",
    "    \n",
    "    carDF = df[df['CarID'] == carID]\n",
    "    carDF = carDF.sort_values(by=['CaptureTime'])\n",
    "    \n",
    "    for i in range(1, len(carDF)):\n",
    "        try:\n",
    "            # Extração com base no Start Time\n",
    "            # Convertendo todos os timestamps para o fuso horário de vancouver\n",
    "            start_time_atual = int(carDF['StartTime'].iloc[i])\n",
    "            start_time_atual = convert_datetime_timezone(start_time_atual, 'America/Sao_Paulo', 'America/Vancouver','-07:00')\n",
    "            \n",
    "            start_time_anterior = int(carDF['StartTime'].iloc[i-1])\n",
    "            start_time_anterior = convert_datetime_timezone(start_time_anterior, 'America/Sao_Paulo', 'America/Vancouver','-07:00')\n",
    "            \n",
    "            request_start_atual = carDF['RequestStart'].iloc[i]\n",
    "            request_start_atual = convert_datetime_timezone(request_start_atual, 'America/Sao_Paulo', 'America/Vancouver','-07:00')\n",
    "            \n",
    "            request_start_anterior = carDF['RequestStart'].iloc[i-1]\n",
    "            request_start_anterior = convert_datetime_timezone(request_start_anterior, 'America/Sao_Paulo', 'America/Vancouver','-07:00')\n",
    "            \n",
    "            capture_timestamp = int(carDF['CaptureTime'].iloc[i].timestamp())\n",
    "            capture_timestamp = convert_datetime_timezone(capture_timestamp, 'UTC', 'America/Vancouver', '-07:00')\n",
    "            \n",
    "            #Verifica se a coleta começou com o carro parado\n",
    "            if (i == 1 and start_time_atual == request_start_atual):\n",
    "                \n",
    "                start_parked = capture_timestamp                \n",
    "                \n",
    "            \n",
    "            # Verifica se a coleta começou com o carro andando\n",
    "            if (i == 1 and start_time_atual > request_start_atual): \n",
    "                \n",
    "                # Registra uma nova viagem\n",
    "                new_travel.append([carID, capture_timestamp, start_time_atual, True])\n",
    "            \n",
    "            # Se o inicio do tempo de disponibilidade > tempo de requisição E estava Parado temos uma nova viagem.  \n",
    "            elif (start_time_atual > request_start_atual and start_time_anterior == request_start_anterior):\n",
    "                \n",
    "                # Registra uma nova viagem\n",
    "                new_travel.append([carID, capture_timestamp, start_time_atual, True])\n",
    "                \n",
    "                # Registra o final do tempo em que estava estacionado\n",
    "                if (start_parked > 0):\n",
    "                    parked.append([carID, start_parked, capture_timestamp])\n",
    "                    start_parked = -1\n",
    "\n",
    "\n",
    "            #Se o inicio do tempo de disponibilidade anterior < tempo de disponibilidade atual E está andando temos uma nova viagem/extensão.\n",
    "            elif (start_time_anterior < start_time_atual and start_time_atual > request_start_atual):\n",
    "                \n",
    "                new_travel.append([carID, capture_timestamp, start_time_atual, False])\n",
    "\n",
    "            \n",
    "            # Se estava andando e agora está parado.\n",
    "            if (start_time_atual == request_start_atual and start_time_anterior > request_start_anterior):\n",
    "                \n",
    "                # Inicio do tempo estacionado\n",
    "                start_parked = capture_timestamp\n",
    "\n",
    "                if(new_travel != []):\n",
    "                   \n",
    "                    # Se a diferença entre hora atual e o inicio da ultima viagem < 30 min => cancelamento\n",
    "                    # Senão => Diminuição/Cancelamento\n",
    "                    if (Hour_Diff(capture_timestamp, new_travel[-1][1]) < 30):\n",
    "                        \n",
    "                        cancel.append([carID, capture_timestamp, start_time_anterior, True])\n",
    "\n",
    "                    #Tolerância de 20 min para dizer que foi uma diminuição ou cancelamento em vez de um termino de viagem\n",
    "                    elif(Hour_Diff(capture_timestamp, new_travel[-1][2]) > 20):\n",
    "                        \n",
    "                        cancel.append([carID, capture_timestamp, start_time_anterior, False])\n",
    "\n",
    "            \n",
    "            # Se acontecer um aumento do tempo de diponibilidade enquanto está andando, ocorreu um cancelamento ou diminuição\n",
    "            if (start_time_atual > request_start_atual and start_time_anterior > start_time_atual):\n",
    "                \n",
    "                cancel.append([carID, capture_timestamp, start_time_anterior, False])             \n",
    "            \n",
    "            \n",
    "            # Extração com base no End Time\n",
    "            end_time_atual = float(carDF['EndTime'].iloc[i])\n",
    "            end_time_atual = convert_datetime_timezone(end_time_atual, 'America/Sao_Paulo', 'America/Vancouver','-07:00')\n",
    "            \n",
    "            end_time_anterior = float(carDF['EndTime'].iloc[i-1])\n",
    "            end_time_anterior = convert_datetime_timezone(end_time_anterior, 'America/Sao_Paulo', 'America/Vancouver','-07:00')\n",
    "            \n",
    "            request_end_atual = carDF['RequestEnd'].iloc[i]\n",
    "            request_end_atual = convert_datetime_timezone(request_end_atual, 'America/Sao_Paulo', 'America/Vancouver','-07:00')\n",
    "            \n",
    "            request_end_anterior = carDF['RequestEnd'].iloc[i-1]\n",
    "            request_end_anterior = convert_datetime_timezone(request_end_anterior, 'America/Sao_Paulo', 'America/Vancouver','-07:00')\n",
    "            \n",
    "            # Se estava com um horário marcado de fim de disponibilidade e agora está livre até o dia seguinte houve um cancelamento\n",
    "            if (end_time_anterior < request_end_anterior and end_time_atual == request_end_atual):\n",
    "                \n",
    "                cancel.append([carID, capture_timestamp, end_time_anterior, True])\n",
    "                \n",
    "\n",
    "            # Se a janela de disponibilidade diminuiu pelo end time foi agendada uma nova viagem/extensão\n",
    "            if (end_time_anterior > end_time_atual and end_time_anterior < request_end_anterior):\n",
    "                \n",
    "                new_travel.append([carID, end_time_atual, end_time_anterior, False])\n",
    "            \n",
    "            # Se a janela de disponibilidade aumentou pelo end time ocorreu um cancelamento/diminuição \n",
    "            elif (end_time_anterior < end_time_atual and end_time_atual < request_end_atual):\n",
    "                \n",
    "                cancel.append([carID, capture_timestamp, end_time_anterior, False])\n",
    "                \n",
    "            # Se antes estava sem fim da janela de disponibilidade e agora end time < request_end\n",
    "            # Temos uma nova viagem mas sem ter como dizer a sua duração\n",
    "            if (end_time_anterior == request_end_anterior and end_time_atual < request_end_atual):\n",
    "                \n",
    "                special_travel.append([carID, capture_timestamp, end_time_atual])\n",
    "                \n",
    "                    \n",
    "        except:\n",
    "            # Exception será gerada nos casos em que o carro não está disponível\n",
    "            continue\n",
    "\n",
    "dfTravels = pd.DataFrame(new_travel,columns=['car_id', 'start', 'end', 'only_new_reserves'])\n",
    "dfCancel = pd.DataFrame(cancel, columns=['car_id', 'capture_time', 'previous_start', 'only_cancel'])\n",
    "dfParked = pd.DataFrame(parked, columns=['car_id', 'start', 'end'])\n",
    "dfSpecial_Travel = pd.DataFrame(special_travel, columns=['car_id', 'capture_time', 'start'])"
   ]
  },
  {
   "cell_type": "code",
   "execution_count": null,
   "metadata": {
    "collapsed": true
   },
   "outputs": [],
   "source": []
  }
 ],
 "metadata": {
  "kernelspec": {
   "display_name": "Python 3",
   "language": "python",
   "name": "python3"
  },
  "language_info": {
   "codemirror_mode": {
    "name": "ipython",
    "version": 3
   },
   "file_extension": ".py",
   "mimetype": "text/x-python",
   "name": "python",
   "nbconvert_exporter": "python",
   "pygments_lexer": "ipython3",
   "version": "3.6.1"
  }
 },
 "nbformat": 4,
 "nbformat_minor": 2
}
