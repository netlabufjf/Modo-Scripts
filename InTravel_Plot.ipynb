{
 "cells": [
  {
   "cell_type": "code",
   "execution_count": null,
   "metadata": {
    "collapsed": true
   },
   "outputs": [],
   "source": [
    "%matplotlib inline\n",
    "import pandas as pd\n",
    "import matplotlib.pyplot as plt\n",
    "import datetime\n",
    "import pytz"
   ]
  },
  {
   "cell_type": "markdown",
   "metadata": {},
   "source": [
    "## Lendo e filtrando os dados coletados da API"
   ]
  },
  {
   "cell_type": "code",
   "execution_count": null,
   "metadata": {
    "collapsed": true
   },
   "outputs": [],
   "source": [
    "# Lendo dados coletados da API\n",
    "df = pd.read_csv('modo_data.csv', usecols=[0,2,3,5])"
   ]
  },
  {
   "cell_type": "code",
   "execution_count": null,
   "metadata": {
    "collapsed": true
   },
   "outputs": [],
   "source": [
    "def str_to_datetime(df_time):\n",
    "    \"\"\" \n",
    "    Reformatando de string para datetime.\n",
    "    \n",
    "    Parameters\n",
    "    ----------\n",
    "    df_time : pandas.DataFrame, string\n",
    "        Dataframe com strings a serem convertidas para datetime.\n",
    "    \n",
    "    Returns\n",
    "    ----------\n",
    "    date_list : pandas.DataFrame, datetime\n",
    "        Dataframe com valores em datetime para possíveis fusos de Vancouver.\n",
    "    \n",
    "    \"\"\"\n",
    "    date_list = []\n",
    "    \n",
    "    # Formatos de fuso horário comum de Vancouver e \n",
    "    # fuso horário característico de horário de verão\n",
    "    format_string = ['%Y-%m-%d %H:%M:%S.%f-08:00', '%Y-%m-%d %H:%M:%S.%f-07:00',\n",
    "                     '%Y-%m-%d %H:%M:%S-08:00', '%Y-%m-%d %H:%M:%S-07:00']\n",
    "    \n",
    "    print(datetime.datetime.now())\n",
    "    for date in df_time:\n",
    "        for fmt in format_string:\n",
    "            try:\n",
    "                date_list.append(datetime.datetime.strptime(str(date), fmt))\n",
    "                break\n",
    "            except:\n",
    "                pass\n",
    "            \n",
    "    print(datetime.datetime.now())\n",
    "    return pd.DataFrame(date_list)"
   ]
  },
  {
   "cell_type": "code",
   "execution_count": null,
   "metadata": {
    "collapsed": true
   },
   "outputs": [],
   "source": [
    "def get_car_ids(car_list):\n",
    "    \"\"\"\n",
    "    Coleta todos os IDs de carros coletados, sem repetições, de uma lista.\n",
    "    \n",
    "    Parameters\n",
    "    -----------\n",
    "    car_list : int list ou pandas.DataFrame\n",
    "        Lista de todos os IDs coletados.\n",
    "    \n",
    "    Returns\n",
    "    ----------\n",
    "    car_ids : int\n",
    "        Lista com todos os IDs já coletados, sem repetições.\n",
    "        \n",
    "    Notes\n",
    "    ---------\n",
    "    A coleta dos IDs é realizada de tal forma para obter IDs de veículos que \n",
    "    por utilização da API podem não ser retornados, como os que estão em manutenção\n",
    "    não estão na frota atual.\n",
    "    \"\"\"\n",
    "    \n",
    "    car_ids = []\n",
    "\n",
    "    for car in car_list:\n",
    "        if (car in car_ids):\n",
    "            continue\n",
    "        else:\n",
    "            car_ids.append(car)\n",
    "    \n",
    "    return car_ids"
   ]
  },
  {
   "cell_type": "code",
   "execution_count": null,
   "metadata": {
    "collapsed": true
   },
   "outputs": [],
   "source": [
    "# Retirando dados nan\n",
    "df.dropna(axis=0, how='any', inplace=True)\n",
    "\n",
    "# Convertendo datetime strings para o tipo datetime\n",
    "df['Capture_time'] = str_to_datetime(df['Capture_time'])\n",
    "\n",
    "# Coletando todos os IDs dos veículos\n",
    "car_ids = get_car_ids(df['CarID'])\n"
   ]
  },
  {
   "cell_type": "markdown",
   "metadata": {},
   "source": [
    "## Porcentagem de carros ocupados a cada minuto"
   ]
  },
  {
   "cell_type": "code",
   "execution_count": null,
   "metadata": {
    "collapsed": true
   },
   "outputs": [],
   "source": [
    "def convert_datetime_timezone(dt, tz1, tz2):\n",
    "    \"\"\"\n",
    "    Converte uma hora no fuso UTC ou São Paulo para um provável fuso de Vancouver.\n",
    "    \n",
    "    Parameters\n",
    "    ------------\n",
    "    dt : unix timestamp\n",
    "        Timestamp a ser convertido para outro fuso horário.\n",
    "    \n",
    "    tz1, tz2 : Timezone String\n",
    "        Time zone atual e a que a hora irá ser convertida.\n",
    "    \n",
    "    Returns\n",
    "    ----------\n",
    "    dt : unix timestamp\n",
    "        Timestamp já convertida para o fuso de Vancouver.\n",
    "    \n",
    "    \"\"\"    \n",
    "    \n",
    "    tz1 = pytz.timezone(tz1)\n",
    "    tz2 = pytz.timezone(tz2)\n",
    "\n",
    "    dt = datetime.datetime.fromtimestamp(dt)\n",
    "    dt = datetime.datetime.strptime(str(dt),\"%Y-%m-%d %H:%M:%S\")\n",
    "    dt = tz1.localize(dt)\n",
    "    dt = dt.astimezone(tz2)\n",
    "    \n",
    "    try:\n",
    "        # Fuso horário comum de Vancouver\n",
    "        dt = datetime.datetime.strptime(str(dt),\"%Y-%m-%d %H:%M:%S-08:00\")\n",
    "    except:\n",
    "        # Fuso horário característico de horário de verão em Vancouver\n",
    "        dt = datetime.datetime.strptime(str(dt),\"%Y-%m-%d %H:%M:%S-07:00\")\n",
    "    \n",
    "    dt = int(dt.timestamp())\n",
    "\n",
    "    return dt"
   ]
  },
  {
   "cell_type": "code",
   "execution_count": null,
   "metadata": {},
   "outputs": [],
   "source": [
    "# Eliminando intervalos de disponibilidade futuros\n",
    "print ('Size with future interval: '+str(len(df)))\n",
    "\n",
    "# Separando o dataframe com os intervalos futuros\n",
    "df_with_future = df\n",
    "df = pd.DataFrame()\n",
    "\n",
    "# Ordenando por capture time e pelo start time\n",
    "df_with_future.sort_values(by=['Capture_time', 'StartTime'], inplace=True)\n",
    "\n",
    "for car in car_ids:\n",
    "    # Refazendo o dataframe somente com os intervalos presentes\n",
    "    df = df.append(df_with_future[df_with_future['CarID'] == car].drop_duplicates(subset='Capture_time', keep='first'))\n",
    "\n",
    "print ('Size without future interval: '+str(len(df)))\n",
    "\n",
    "df.sort_values(by='Capture_time', inplace=True)\n",
    "\n",
    "# Retirando dados nan\n",
    "df.dropna(axis=0, how='any', inplace=True)"
   ]
  },
  {
   "cell_type": "code",
   "execution_count": null,
   "metadata": {
    "collapsed": true,
    "scrolled": true
   },
   "outputs": [],
   "source": [
    "in_travel = 0\n",
    "andando_weekdays = []\n",
    "andando_weekends = []\n",
    "\n",
    "\n",
    "\n",
    "# Percorre todo o dataframe para verificar quais carros estão andando em dado minuto\n",
    "for i in range(1, len(df)):\n",
    "    capture_time_atual = int(df['Capture_time'].iloc[i].timestamp())\n",
    "\n",
    "    capture_time_anterior = int(df['Capture_time'].iloc[i-1].timestamp())\n",
    "\n",
    "    start_time = int(df['StartTime'].iloc[i])\n",
    "\n",
    "    request_start = df['RequestStart'].iloc[i]\n",
    "\n",
    "    # Enquanto está no mesmo minuto, é analisado se o carro está andando\n",
    "    if (capture_time_atual == capture_time_anterior):\n",
    "        if (start_time > request_start):\n",
    "            in_travel += 1\n",
    "    else:\n",
    "        porcentagem = (in_travel/len(car_ids))*100\n",
    "        \n",
    "        # Verifica que a data está entre segunda(1) e sexta(5)\n",
    "        if (int(datetime.datetime.fromtimestamp(capture_time_anterior).strftime('%w')) > 0 and \n",
    "            int(datetime.datetime.fromtimestamp(capture_time_anterior).strftime('%w')) < 6):\n",
    "            andando_weekdays.append([capture_time_anterior, in_travel, porcentagem])\n",
    "        else:\n",
    "            andando_weekends.append([capture_time_anterior, in_travel, porcentagem])\n",
    "        in_travel = 0\n",
    "        \n",
    "dfIn_Travel_weekdays = pd.DataFrame(andando_weekdays, columns=['capture_time', 'total_in_travel', 'percentage'])\n",
    "dfIn_Travel_weekends = pd.DataFrame(andando_weekends, columns=['capture_time', 'total_in_travel', 'percentage'])"
   ]
  },
  {
   "cell_type": "code",
   "execution_count": null,
   "metadata": {
    "collapsed": true
   },
   "outputs": [],
   "source": [
    "def from_timestamp_list(timestamp_list):\n",
    "    \n",
    "    datetime_list = []\n",
    "    \n",
    "    for date in timestamp_list:\n",
    "        datetime_list.append(datetime.datetime.fromtimestamp(int(date)))\n",
    "    \n",
    "    return pd.DataFrame(datetime_list)"
   ]
  },
  {
   "cell_type": "code",
   "execution_count": null,
   "metadata": {
    "collapsed": true,
    "scrolled": true
   },
   "outputs": [],
   "source": [
    "# Formatando os dados de unix timestamp para datetime\n",
    "\n",
    "dfWeekdays = dfIn_Travel_weekdays\n",
    "\n",
    "dfWeekdays['capture_time'] = from_timestamp_list(dfWeekdays['capture_time'])    \n",
    "    \n",
    "    \n",
    "dfWeekends = dfIn_Travel_weekends\n",
    "\n",
    "dfWeekends['capture_time'] = from_timestamp_list(dfWeekends['capture_time'])"
   ]
  },
  {
   "cell_type": "code",
   "execution_count": null,
   "metadata": {
    "collapsed": true
   },
   "outputs": [],
   "source": [
    "dfWeekends.to_csv('weekends_v2.csv', index=False, encoding='utf-8')\n",
    "dfWeekdays.to_csv('weekdays_v2.csv', index=False, encoding='utf-8')"
   ]
  },
  {
   "cell_type": "code",
   "execution_count": null,
   "metadata": {
    "collapsed": true
   },
   "outputs": [],
   "source": [
    "# Leitura de dados já processados se necessário\n",
    "\n",
    "# dfWeekends = pd.read_csv('weekends_v2.csv')\n",
    "# dfWeekdays = pd.read_csv('weekdays_v2.csv')\n",
    "\n",
    "# dfWeekdays['capture_time'] = pd.to_datetime(dfWeekdays['capture_time'])\n",
    "# dfWeekends['capture_time'] = pd.to_datetime(dfWeekends['capture_time'])"
   ]
  },
  {
   "cell_type": "code",
   "execution_count": null,
   "metadata": {
    "scrolled": false
   },
   "outputs": [],
   "source": [
    "# Plot da porcentagem de carros alocados em dias de semana\n",
    "plt.plot(dfWeekdays['capture_time'],dfWeekdays['percentage'])\n",
    "plt.gcf().autofmt_xdate()\n",
    "plt.show()"
   ]
  },
  {
   "cell_type": "code",
   "execution_count": null,
   "metadata": {
    "scrolled": true
   },
   "outputs": [],
   "source": [
    "# Plot da porcentagem de carros alocados em dias de final de semana\n",
    "plt.plot(dfWeekends['capture_time'],dfWeekends['percentage'])\n",
    "plt.gcf().autofmt_xdate()\n",
    "plt.show()"
   ]
  },
  {
   "cell_type": "markdown",
   "metadata": {},
   "source": [
    "## Porcentagem média de carros ocupados em cada minuto"
   ]
  },
  {
   "cell_type": "code",
   "execution_count": null,
   "metadata": {
    "collapsed": true,
    "scrolled": true
   },
   "outputs": [],
   "source": [
    "# Faz a media das porcentagens para todos os minutos de uma certa quantidade de dias\n",
    "def media(df, num_dias):\n",
    "    \"\"\"\n",
    "    Faz a media das porcentagens para todos os minutos em uma dada a quantidade de dias.\n",
    "    \n",
    "    Parameters\n",
    "    ------------\n",
    "    df : Pandas dataframe\n",
    "        Dados a serem analisados, com uma coluna dos horários e outra com as porcentagens.\n",
    "    \n",
    "    num_dias : int\n",
    "        Numero de dias total da coleta.\n",
    "    \n",
    "    Returns\n",
    "    ----------\n",
    "    media : Pandas dataframe\n",
    "        Dados com a média das porcentagens para 24 horas.\n",
    "    \n",
    "    \"\"\"\n",
    "    media = []\n",
    "    minutes_of_day = 1440\n",
    "    ant = -1\n",
    "    valores = pd.DataFrame()\n",
    "    # Loop que irá verificar um dia de registros(24h = 1440 min) visualizando cada minuto\n",
    "    for i in range(minutes_of_day-1):\n",
    "        count = 0\n",
    "        # Irá percorrer os dias seguintes para encontrar as outras incidencias do mesmo minuto\n",
    "        for j in range(i, num_dias * minutes_of_day, minutes_of_day-80):       \n",
    "\n",
    "            try:\n",
    "                # Por conta de filtros os indices não estão exatos\n",
    "                # Ele irá procurar em um intervalo o minuto desejado\n",
    "                for c in range(j, j+3000):\n",
    "                    #Se tiver o mesma hora e minuto somamos a média, além de ser diferente do valor anterior\n",
    "                    if (df['capture_time'].iloc[c].minute == df['capture_time'].iloc[i].minute and \n",
    "                        df['capture_time'].iloc[c].hour == df['capture_time'].iloc[i].hour and\n",
    "                        int(df['capture_time'].iloc[c].day) != ant):\n",
    "                        \n",
    "                        valores = valores.append([df['percentage'].iloc[c]])\n",
    "                        \n",
    "                        #variavel para evitar pegar valores repetidos\n",
    "                        ant = int(df['capture_time'].iloc[c].day)\n",
    "                        \n",
    "                        # Atualiza o j para onde o minuto foi encontrado\n",
    "                        j=c\n",
    "                        count += 1\n",
    "                        break\n",
    "            \n",
    "            except Exception as e:\n",
    "                #print(e)\n",
    "                break\n",
    "        print(\"Quant. dias: \"+str(count)+\"   minutes: \"+str(i))\n",
    "        \n",
    "        # Registra somente a hora, media e desvio padrão das porcentagens dos dias\n",
    "        media.append([df['capture_time'].iloc[i].strftime('%H:%M'), float(valores.mean()), float(valores.std())])\n",
    "        valores = pd.DataFrame()\n",
    "\n",
    "    media = pd.DataFrame(media, columns=['time', 'mean', 'std'])\n",
    "    \n",
    "    # Formatando a hora para datetime\n",
    "    for i in range(len(media)):\n",
    "        media['time'].iloc[i] = datetime.datetime.strptime(media['time'].iloc[i], '%H:%M').time()\n",
    "    \n",
    "    return media"
   ]
  },
  {
   "cell_type": "code",
   "execution_count": null,
   "metadata": {
    "collapsed": true
   },
   "outputs": [],
   "source": [
    "# Fazendo a média das porcentagens de cada dia\n",
    "dfWeekdays = dfWeekdays.sort_values(by='capture_time')\n",
    "mediaWeekdays = media(dfWeekdays, 40)\n",
    "\n",
    "dfWeekends = dfWeekends.sort_values(by='capture_time')\n",
    "mediaWeekends = media(dfWeekends, 25)"
   ]
  },
  {
   "cell_type": "code",
   "execution_count": null,
   "metadata": {
    "collapsed": true
   },
   "outputs": [],
   "source": [
    "mediaWeekdays.to_csv('mediaWeekdays_v2.csv', index=False, encoding='utf-8')\n",
    "mediaWeekends.to_csv('mediaWeekends_v2.csv', index=False, encoding='utf-8')"
   ]
  },
  {
   "cell_type": "code",
   "execution_count": null,
   "metadata": {
    "collapsed": true
   },
   "outputs": [],
   "source": [
    "# Leitura de dados já processados se necessário\n",
    "\n",
    "# mediaWeekdays = pd.read_csv('mediaWeekdays_v2.csv')\n",
    "# mediaWeekends = pd.read_csv('mediaWeekends_v2.csv')"
   ]
  },
  {
   "cell_type": "code",
   "execution_count": null,
   "metadata": {
    "collapsed": true
   },
   "outputs": [],
   "source": [
    "# Ordenando pelo tempo\n",
    "mediaWeekdays = mediaWeekdays.sort_values(by=['time'])\n",
    "mediaWeekends = mediaWeekends.sort_values(by=['time'])"
   ]
  },
  {
   "cell_type": "markdown",
   "metadata": {},
   "source": [
    "## Gráficos de porcentagem média de carros ocupados em cada minuto"
   ]
  },
  {
   "cell_type": "code",
   "execution_count": null,
   "metadata": {
    "scrolled": true
   },
   "outputs": [],
   "source": [
    "import numpy as np\n",
    "\n",
    "# Plot da media das porcentagens dos dias de semana\n",
    "fig, ax = plt.subplots()\n",
    "# Curva dos carros andando\n",
    "ax.plot(range(len(mediaWeekdays['time'])),mediaWeekdays['mean'], label='Carros Ocupados')\n",
    "\n",
    "# Curvas representando o intervalo de desvio padrão\n",
    "ax.plot(range(len(mediaWeekdays['time'])), mediaWeekdays['mean']+mediaWeekdays['std'], alpha=150, c='gray', label='Desvio Padrão')\n",
    "ax.plot(range(len(mediaWeekdays['time'])), mediaWeekdays['mean']-mediaWeekdays['std'], alpha=150, c='gray')\n",
    "\n",
    "# Modificando os labels das horas\n",
    "ax.xaxis.set_ticks(np.arange(0, 1441, 120))\n",
    "\n",
    "fig.canvas.draw()\n",
    "\n",
    "labels = [item.get_text() for item in ax.get_xticklabels()]\n",
    "labels = range(0,26,2)\n",
    "\n",
    "ax.set_xticklabels(labels)\n",
    "\n",
    "# Legendas e label dos eixos\n",
    "plt.legend(bbox_to_anchor=(0.01, 0.99), loc=2, borderaxespad=0.2)\n",
    "plt.ylabel('Percentual')\n",
    "plt.xlabel('Horário')\n",
    "\n",
    "# Salvando o plot\n",
    "plt.savefig('Weekdays_v2.pdf', bbox_inches='tight')\n",
    "\n",
    "plt.show()"
   ]
  },
  {
   "cell_type": "code",
   "execution_count": null,
   "metadata": {},
   "outputs": [],
   "source": [
    "# Plot da media das porcentagens dos dias de semana\n",
    "fig, ax = plt.subplots()\n",
    "# Curva dos carros andando\n",
    "ax.plot(range(len(mediaWeekends['time'])),mediaWeekends['mean'], label='Carros Reservados')\n",
    "\n",
    "# Curvas representando o intervalo de desvio padrão\n",
    "ax.plot(range(len(mediaWeekends['time'])), mediaWeekends['mean']+mediaWeekends['std'], alpha=150, c='gray', label='Desvio Padrão')\n",
    "ax.plot(range(len(mediaWeekends['time'])), mediaWeekends['mean']-mediaWeekends['std'], alpha=150, c='gray')\n",
    "\n",
    "# Modificando os labels das horas\n",
    "ax.xaxis.set_ticks(np.arange(0, 1441, 120))\n",
    "\n",
    "fig.canvas.draw()\n",
    "\n",
    "labels = [item.get_text() for item in ax.get_xticklabels()]\n",
    "labels = range(0,26,2)\n",
    "\n",
    "ax.set_xticklabels(labels)\n",
    "\n",
    "# Legendas e label dos eixos\n",
    "plt.legend(bbox_to_anchor=(0.01, 0.99), loc=2, borderaxespad=0.2)\n",
    "plt.ylabel('Percentual')\n",
    "plt.xlabel('Horário')\n",
    "\n",
    "# Salvando o plot\n",
    "plt.savefig('Weekends_v2.pdf', bbox_inches='tight')\n",
    "\n",
    "plt.show()"
   ]
  },
  {
   "cell_type": "markdown",
   "metadata": {},
   "source": [
    "## Extração das porcentagens de carros reservados"
   ]
  },
  {
   "cell_type": "code",
   "execution_count": null,
   "metadata": {
    "collapsed": true
   },
   "outputs": [],
   "source": [
    "# CSV criado a partir dos dados coletados do arquivo ModoApi_Data_Filter\n",
    "dfTravels = pd.read_csv('travels_test.csv')"
   ]
  },
  {
   "cell_type": "code",
   "execution_count": null,
   "metadata": {},
   "outputs": [],
   "source": [
    "# Concatenando reservas consecutivas\n",
    "dfTravels = dfTravels.sort_values(by=['car_id', 'start'])\n",
    "\n",
    "# Enquanto estiver com viagens consecutivas percorrer o dataframe\n",
    "while (len(dfTravels[dfTravels['only_new_reserves'] == False]) > 0):\n",
    "    i = 0\n",
    "    while(i < len(dfTravels)-1):\n",
    "        # Se a viagem atual for comum e a seguinte consecutiva, analisar a possível concatenação\n",
    "        if (dfTravels['only_new_reserves'].iloc[i] and \n",
    "            not dfTravels['only_new_reserves'].iloc[i+1]):\n",
    "            \n",
    "            # Se a viagem consecutiva terminar depois da viagem anterior efetuar concatenação\n",
    "            if (dfTravels['end'].iloc[i] < dfTravels['end'].iloc[i+1]):\n",
    "                dfTravels['end'].iloc[i] = dfTravels['end'].iloc[i+1]\n",
    "                \n",
    "            # Caso contrario, somente retirar do dataframe a viagem consecutiva\n",
    "            dfTravels = dfTravels.drop(dfTravels.index[i+1])\n",
    "            dfTravels.index = range(len(dfTravels))\n",
    "            i -= 1\n",
    "        \n",
    "        i+=1\n",
    "\n",
    "dfTravels.index = range(len(dfTravels))\n",
    "dfTravels.to_csv('travels_concat_v2.csv')"
   ]
  },
  {
   "cell_type": "markdown",
   "metadata": {},
   "source": [
    "###  Função para contar a porcentagem de carros reservados nos dias passados como parâmetro"
   ]
  },
  {
   "cell_type": "code",
   "execution_count": null,
   "metadata": {
    "collapsed": true,
    "scrolled": true
   },
   "outputs": [],
   "source": [
    "def cont_reservas(dfDays):\n",
    "    \"\"\"\n",
    "    Conta o número de reservas de todos os minutos de coleta para realizar uma média.\n",
    "    \n",
    "    Parameters\n",
    "    ------------\n",
    "    dfDays: Pandas dataframe\n",
    "        Dados de todos os minutos de coleta a serem avaliados.\n",
    "    \n",
    "    Returns\n",
    "    ----------\n",
    "    media : Pandas dataframe\n",
    "        Dados com a média das porcentagens para 24 horas.\n",
    "    \"\"\"\n",
    "    \n",
    "    # Coletando todos os minutos de captura\n",
    "    datas = pd.to_datetime(dfDays['capture_time'])\n",
    "    datas = pd.DataFrame(datas)\n",
    "\n",
    "    dfReservas = pd.concat([dfTravels['car_id'], dfTravels['start'], dfTravels['end']], axis=1)\n",
    "    \n",
    "    # Ordenando os valores pelo tempo de inicio das reservas\n",
    "    dfReservas = dfReservas.sort_values(by='start')\n",
    "\n",
    "    cont_reservas = 0\n",
    "    reservas = []\n",
    "    \n",
    "    # Auxiliar para adquirir o indice da viagem mais proxima que engloba a hora atual\n",
    "    proximo_start = 0\n",
    "\n",
    "    for i in range(len(datas)):\n",
    "        # Vetor para evitar multiplas ocorrências de reservas de um veículo já contabilizado\n",
    "        ids = []\n",
    "        data_timestamp = datas['capture_time'].iloc[i].timestamp()\n",
    "        \n",
    "        # Auxiliar para evitar analises desnecessárias\n",
    "        start_test = True\n",
    "\n",
    "        \"\"\" Comparando todas as datas aos  intervalos das reservas,\n",
    "        e vendo se ele faz parte para se somar a porcentagem\"\"\"\n",
    "        for j in range(proximo_start, len(dfReservas)):\n",
    "            if (dfReservas['start'].iloc[j] <= data_timestamp and \n",
    "                data_timestamp <= dfReservas['end'].iloc[j]):\n",
    "                \n",
    "                # Condicional para evitar contar reservas de veículos já contabilizados\n",
    "                if (dfReservas['car_id'].iloc[j] in ids): \n",
    "                    continue\n",
    "                \n",
    "                cont_reservas += 1\n",
    "                \n",
    "                # Adicionando veículo contado em tal minuto\n",
    "                ids.append(dfReservas['car_id'].iloc[j])\n",
    "                \n",
    "                \"\"\" Evita comparações desnecessárias de viagens que terminaram antes da hora\n",
    "                a ser analisada. Seguindo a ideia de que se a viagem não englobou antes \n",
    "                a hora atual ela não irá englobar as próximas\"\"\"\n",
    "                if (start_test) : \n",
    "                    if (proximo_start > 0): proximo_start = j - 1\n",
    "                    else: proximo_start = j\n",
    "                    start_test = False\n",
    "            \n",
    "            # Evita analisar viagens que começaram depois da hora atual\n",
    "            # a fim de diminuir o tempo de execução do loop\n",
    "            if (dfReservas['start'].iloc[j] > data_timestamp):\n",
    "                break\n",
    "\n",
    "        porcentagem = (cont_reservas/len(car_ids))*100\n",
    "\n",
    "        data = datas['capture_time'].iloc[i]\n",
    "\n",
    "        reservas.append([data, cont_reservas, porcentagem])\n",
    "\n",
    "        cont_reservas = 0\n",
    "        \n",
    "        if (i % 100 == 0): \n",
    "            print('Data atual: '+str(data))\n",
    "            print(' ')\n",
    "\n",
    "    reservas = pd.DataFrame(reservas, columns=['datetime', 'total_reserves', 'percentage'])\n",
    "\n",
    "    return reservas"
   ]
  },
  {
   "cell_type": "code",
   "execution_count": null,
   "metadata": {
    "collapsed": true
   },
   "outputs": [],
   "source": [
    "# Contando reservas durante os dias de coleta\n",
    "dfR_Weekdays = cont_reservas(dfWeekdays)\n",
    "dfR_Weekends = cont_reservas(dfWeekends)"
   ]
  },
  {
   "cell_type": "code",
   "execution_count": null,
   "metadata": {
    "collapsed": true
   },
   "outputs": [],
   "source": [
    "dfR_Weekends.to_csv('r_weekends_v2.csv', index=False, encoding='utf-8')\n",
    "dfR_Weekdays.to_csv('r_weekdays_v2.csv', index=False, encoding='utf-8')"
   ]
  },
  {
   "cell_type": "code",
   "execution_count": null,
   "metadata": {
    "collapsed": true
   },
   "outputs": [],
   "source": [
    "# Leitura de dados já processados se necessário\n",
    "\n",
    "# dfR_Weekdays =  pd.read_csv('r_weekdays_v2.csv')\n",
    "# dfR_Weekends =  pd.read_csv('r_weekends_v2.csv')\n",
    "\n",
    "# Formatando os dias para datetime\n",
    "\n",
    "# dfR_Weekdays['datetime'] = pd.to_datetime(dfR_Weekdays['datetime'])\n",
    "# dfR_Weekends['datetime'] = pd.to_datetime(dfR_Weekends['datetime'])"
   ]
  },
  {
   "cell_type": "code",
   "execution_count": null,
   "metadata": {
    "collapsed": true,
    "scrolled": true
   },
   "outputs": [],
   "source": [
    "# Plot da porcentagem de carros alocados em dias de semana\n",
    "plt.plot(dfR_Weekdays['datetime'],dfR_Weekdays['percentage'])\n",
    "plt.gcf().autofmt_xdate()\n",
    "plt.show()"
   ]
  },
  {
   "cell_type": "code",
   "execution_count": null,
   "metadata": {
    "collapsed": true,
    "scrolled": true
   },
   "outputs": [],
   "source": [
    "# Plot da porcentagem de carros alocados em dias de semana\n",
    "plt.plot(dfR_Weekdays['datetime'],dfR_Weekdays['percentage'])\n",
    "plt.gcf().autofmt_xdate()\n",
    "plt.show()"
   ]
  },
  {
   "cell_type": "code",
   "execution_count": null,
   "metadata": {
    "collapsed": true,
    "scrolled": true
   },
   "outputs": [],
   "source": [
    "# Plot da porcentagem de carros alocados em dias de semana\n",
    "plt.plot(dfR_Weekends['datetime'],dfR_Weekends['percentage'])\n",
    "plt.gcf().autofmt_xdate()\n",
    "plt.show()"
   ]
  },
  {
   "cell_type": "code",
   "execution_count": null,
   "metadata": {
    "collapsed": true
   },
   "outputs": [],
   "source": [
    "# Fazendo a média das porcentagens de cada dia\n",
    "\n",
    "# Dias de semana\n",
    "dfR_Weekdays = dfR_Weekdays.sort_values(by='datetime')\n",
    "dfR_Weekdays['capture_time'] = dfR_Weekdays['datetime']\n",
    "dfmediaR_Weekdays = media(dfR_Weekdays, 40)\n",
    "\n",
    "# Ordenando pelo tempo\n",
    "dfmediaR_Weekdays = dfmediaR_Weekdays.sort_values(by='time')\n",
    "\n",
    "dfmediaR_Weekdays.to_csv('media_r_weekdays.csv', index=False, encoding='utf-8')\n",
    "\n",
    "# Finais de semana\n",
    "dfR_Weekends = dfR_Weekends.sort_values(by='datetime')\n",
    "dfR_Weekends['capture_time'] = dfR_Weekends['datetime']\n",
    "dfmediaR_Weekends = media(dfR_Weekends, 30)\n",
    "\n",
    "# Ordenando pelo tempo\n",
    "dfmediaR_Weekends = dfmediaR_Weekends.sort_values(by='time')\n",
    "\n",
    "dfmediaR_Weekends.to_csv('media_r_weekends.csv', index=False, encoding='utf-8')"
   ]
  },
  {
   "cell_type": "markdown",
   "metadata": {},
   "source": [
    "## Plotagem final da porcentagem de carros reservados e ocupados"
   ]
  },
  {
   "cell_type": "code",
   "execution_count": null,
   "metadata": {
    "collapsed": true
   },
   "outputs": [],
   "source": [
    "import matplotlib\n",
    "\n",
    "matplotlib.rc('font', size=12)\n",
    "\n",
    "# Plot das porcentagens dos fins de semana\n",
    "fig, (ax1, ax2) = plt.subplots(1, 2)\n",
    "\n",
    "fig.set_size_inches(14,4.5)\n",
    "\n",
    "\n",
    "\n",
    "# Curva dos carros andando\n",
    "\n",
    "ax1.plot(range(len(mediaWeekdays['time'])),mediaWeekdays['mean'], label='Carros Ocupados')\n",
    "\n",
    "# Curvas representando o intervalo de desvio padrão\n",
    "ax1.plot(range(len(mediaWeekdays['time'])), mediaWeekdays['mean']+mediaWeekdays['std'], alpha=150, c='gray')\n",
    "ax1.plot(range(len(mediaWeekdays['time'])), mediaWeekdays['mean']-mediaWeekdays['std'], alpha=150, c='gray')\n",
    "\n",
    "\n",
    "# Curva dos carros reservados\n",
    "ax1.plot(range(len(dfmediaR_Weekdays['time'])),dfmediaR_Weekdays['mean'], label='Carros Reservados', c='r', ls='--')\n",
    "\n",
    "# Curvas representando o intervalo de desvio padrão\n",
    "ax1.plot(range(len(dfmediaR_Weekdays['time'])), dfmediaR_Weekdays['mean']+dfmediaR_Weekdays['std'], alpha=150, c='#FA8072', ls='--')\n",
    "ax1.plot(range(len(dfmediaR_Weekdays['time'])), dfmediaR_Weekdays['mean']-dfmediaR_Weekdays['std'], alpha=150, c='#FA8072', ls='--')\n",
    "\n",
    "\n",
    "# Modificando os labels das horas e das porcentagens\n",
    "ax1.xaxis.set_ticks(np.arange(0, 1441, 120))\n",
    "ax1.yaxis.set_ticks(np.arange(0, 110, 10))\n",
    "\n",
    "fig.canvas.draw()\n",
    "\n",
    "labels = [item.get_text() for item in ax1.get_xticklabels()]\n",
    "labels = range(0,26,2)\n",
    "\n",
    "ax1.set_xticklabels(labels)\n",
    "\n",
    "# Eixo y de 0 a 100%\n",
    "ax1.set_ylim([0,100])\n",
    "\n",
    "# Legendas e label dos eixos\n",
    "ax1.legend(bbox_to_anchor=(0.01, 0.99), loc=2, borderaxespad=0.2)\n",
    "ax1.set_ylabel('Percentual')\n",
    "ax1.set_xlabel('Horário')\n",
    "\n",
    "\n",
    "\n",
    "\n",
    "# # Curva dos carros andando\n",
    "ax2.plot(range(len(mediaWeekends['time'])),mediaWeekends['mean'], label='Carros Ocupados')\n",
    "\n",
    "# # Curvas representando o intervalo de desvio padrão\n",
    "ax2.plot(range(len(mediaWeekends['time'])), mediaWeekends['mean']+mediaWeekends['std'], alpha=150, c='gray')\n",
    "ax2.plot(range(len(mediaWeekends['time'])), mediaWeekends['mean']-mediaWeekends['std'], alpha=150, c='gray')\n",
    "\n",
    "\n",
    "# # Curva dos carros reservados\n",
    "ax2.plot(range(len(dfmediaR_Weekends['time'])),dfmediaR_Weekends['mean'], label='Carros Reservados', c='r', ls='--')\n",
    "\n",
    "# # Curvas representando o intervalo de desvio padrão\n",
    "ax2.plot(range(len(dfmediaR_Weekends['time'])), dfmediaR_Weekends['mean']+dfmediaR_Weekends['std'], alpha=150, c='#FA8072', ls='--')\n",
    "ax2.plot(range(len(dfmediaR_Weekends['time'])), dfmediaR_Weekends['mean']-dfmediaR_Weekends['std'], alpha=150, c='#FA8072', ls='--')\n",
    "\n",
    "# Modificando os labels das horas e das porcentagens\n",
    "ax2.xaxis.set_ticks(np.arange(0, 1441, 120))\n",
    "ax2.yaxis.set_ticks(np.arange(0, 110, 10))\n",
    "\n",
    "fig.canvas.draw()\n",
    "\n",
    "labels = [item.get_text() for item in ax2.get_xticklabels()]\n",
    "labels = range(0,26,2)\n",
    "\n",
    "ax2.set_xticklabels(labels)\n",
    "\n",
    "# Eixo y de 0 a 100%\n",
    "ax2.set_ylim([0,100])\n",
    "\n",
    "# Legendas e label dos eixos\n",
    "ax2.legend(bbox_to_anchor=(0.55, 0.99), loc=2, borderaxespad=0.1)\n",
    "ax2.set_ylabel('Percentual')\n",
    "ax2.set_xlabel('Horário')\n",
    "\n",
    "\n",
    "plt.show()\n",
    "plt.savefig('ViagensPorHoras_v2.pdf')"
   ]
  },
  {
   "cell_type": "code",
   "execution_count": null,
   "metadata": {
    "collapsed": true
   },
   "outputs": [],
   "source": []
  }
 ],
 "metadata": {
  "kernelspec": {
   "display_name": "Python 3",
   "language": "python",
   "name": "python3"
  },
  "language_info": {
   "codemirror_mode": {
    "name": "ipython",
    "version": 3
   },
   "file_extension": ".py",
   "mimetype": "text/x-python",
   "name": "python",
   "nbconvert_exporter": "python",
   "pygments_lexer": "ipython3",
   "version": "3.6.1"
  }
 },
 "nbformat": 4,
 "nbformat_minor": 2
}
