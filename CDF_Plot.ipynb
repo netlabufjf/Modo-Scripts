{
 "cells": [
  {
   "cell_type": "code",
   "execution_count": null,
   "metadata": {
    "collapsed": true
   },
   "outputs": [],
   "source": [
    "%matplotlib inline\n",
    "import pandas as pd\n",
    "import urllib as ur\n",
    "import json\n",
    "import datetime\n",
    "import matplotlib.pyplot as plt\n",
    "import numpy as np"
   ]
  },
  {
   "cell_type": "markdown",
   "metadata": {},
   "source": [
    "## Requisitando os carros e filtrando com base do seu tipo(normais, elétricos e híbridos)."
   ]
  },
  {
   "cell_type": "code",
   "execution_count": null,
   "metadata": {
    "collapsed": true
   },
   "outputs": [],
   "source": [
    "# Requisição a lista de carros e suas informações\n",
    "response = ur.request.urlopen('https://bookit.modo.coop/api/v2/car_list').read().decode('UTF-8')\n",
    "json_cars = json.loads(response)"
   ]
  },
  {
   "cell_type": "code",
   "execution_count": null,
   "metadata": {
    "collapsed": true
   },
   "outputs": [],
   "source": [
    "# Adquirindo os ids de todos os carros\n",
    "car_ids = list(json_cars['Response']['Cars'].keys())"
   ]
  },
  {
   "cell_type": "code",
   "execution_count": null,
   "metadata": {
    "collapsed": true
   },
   "outputs": [],
   "source": [
    "electric = []\n",
    "\n",
    "# Separando por carro o seu tipo, sendo hibrido ou elétrico\n",
    "for car in car_ids:\n",
    "    try:\n",
    "        accessories = list(json_cars['Response']['Cars'][str(car)]['Accessories'])\n",
    "\n",
    "        if ('hybrid' in accessories):\n",
    "            electric.append([int(car), 'hybrid'])\n",
    "        if ('electric car' in accessories):\n",
    "            electric.append([int(car), 'electric'])\n",
    "    except:\n",
    "        continue\n",
    "        \n",
    "electric = pd.DataFrame(electric, columns=['car_id', 'type'])"
   ]
  },
  {
   "cell_type": "markdown",
   "metadata": {},
   "source": [
    "## Coletando a duração de cada viagem para carros normais, elétricos e híbridos."
   ]
  },
  {
   "cell_type": "code",
   "execution_count": null,
   "metadata": {
    "collapsed": true
   },
   "outputs": [],
   "source": [
    "# Lendo csv de intervalos de ociosidade e ocupação\n",
    "dfOccupied = pd.read_csv('occupied_v2.csv')\n",
    "dfParked = pd.read_csv('parked_v2.csv')"
   ]
  },
  {
   "cell_type": "code",
   "execution_count": null,
   "metadata": {
    "collapsed": true
   },
   "outputs": [],
   "source": [
    "def Hour_Diff(h1,h2):\n",
    "    \"\"\"\n",
    "    Faz a diferença entre duas horas dadas e retorna em minutos\n",
    "    \n",
    "    Parameters\n",
    "    ----------\n",
    "    h1, h2 : unix timestamp\n",
    "        Hora inicio e fim para ser feito o cálculo da diferença\n",
    "        \n",
    "    Returns\n",
    "    ---------\n",
    "    diff : float\n",
    "        Diferença entre as duas horas dadas em minutos\n",
    "        \n",
    "    \"\"\"\n",
    "    \n",
    "    h1Aux = datetime.datetime.fromtimestamp(h1)\n",
    "    h2Aux = datetime.datetime.fromtimestamp(h2)\n",
    "    diff = abs((h1Aux - h2Aux)).total_seconds()/60\n",
    "    \n",
    "    return diff"
   ]
  },
  {
   "cell_type": "code",
   "execution_count": null,
   "metadata": {
    "collapsed": true
   },
   "outputs": [],
   "source": [
    "# Fazendo a duração de cada intervalo de ocupação\n",
    "diff = []\n",
    "for i in range(len(dfOccupied)):\n",
    "    diff.append(Hour_Diff(dfOccupied['start'].iloc[i], dfOccupied['end'].iloc[i]))\n",
    "\n",
    "diff = pd.DataFrame(diff, columns=['duration'])\n",
    "Occupied_Diff = pd.concat([dfOccupied, diff], axis=1)"
   ]
  },
  {
   "cell_type": "code",
   "execution_count": null,
   "metadata": {
    "collapsed": true
   },
   "outputs": [],
   "source": [
    "# Fazendo a duração de cada intervalo de tempo de ociosidade\n",
    "diff = []\n",
    "for i in range(len(dfParked)):\n",
    "    diff.append(Hour_Diff(dfParked['start'].iloc[i], dfParked['end'].iloc[i]))\n",
    "\n",
    "diff = pd.DataFrame(diff, columns=['duration'])\n",
    "Parked_Diff = pd.concat([dfParked, diff], axis=1)"
   ]
  },
  {
   "cell_type": "code",
   "execution_count": null,
   "metadata": {
    "collapsed": true
   },
   "outputs": [],
   "source": [
    "# Filtra os intervalos de ocupação dos carros híbridos e elétricos\n",
    "\n",
    "electric_occupied = []\n",
    "hybrid_occupied = []\n",
    "\n",
    "for i in range(len(electric)):\n",
    "    occupied = Occupied_Diff[Occupied_Diff['car_id'] == electric['car_id'].iloc[i]]\n",
    "\n",
    "    if (electric['type'].iloc[i] == 'hybrid'):\n",
    "        for j in range(len(occupied)):\n",
    "            hybrid_occupied.append([occupied['car_id'].iloc[j] ,occupied['start'].iloc[j], \n",
    "                                   occupied['end'].iloc[j],occupied['duration'].iloc[j]])\n",
    "        continue\n",
    "    if (electric['type'].iloc[i] == 'electric'):\n",
    "        for j in range(len(occupied)):\n",
    "            electric_occupied.append([occupied['car_id'].iloc[j] ,occupied['start'].iloc[j], \n",
    "                                     occupied['end'].iloc[j], occupied['duration'].iloc[j]])\n",
    "        continue\n",
    "\n",
    "hybrid_occupied = pd.DataFrame(hybrid_occupied, columns=['car_id', 'start', 'end', 'duration'])\n",
    "electric_occupied = pd.DataFrame(electric_occupied, columns=['car_id', 'start', 'end', 'duration'])\n",
    "\n",
    "# Filtra o tempo de ociosidade dos carros híbridos e elétricos\n",
    "\n",
    "electric_parked = []\n",
    "hybrid_parked = []\n",
    "\n",
    "for i in range(len(electric)):\n",
    "    parked = Parked_Diff[Parked_Diff['car_id'] == electric['car_id'].iloc[i]]\n",
    "\n",
    "    if (electric['type'].iloc[i] == 'hybrid'):\n",
    "        for j in range(len(parked)):\n",
    "            hybrid_parked.append([parked['car_id'].iloc[j] ,parked['start'].iloc[j], \n",
    "                                  parked['end'].iloc[j], parked['duration'].iloc[j]])\n",
    "        continue\n",
    "    if (electric['type'].iloc[i] == 'electric'):\n",
    "        for j in range(len(parked)):\n",
    "            electric_parked.append([parked['car_id'].iloc[j] ,parked['start'].iloc[j], \n",
    "                                    parked['end'].iloc[j], parked['duration'].iloc[j]])\n",
    "        continue\n",
    "\n",
    "hybrid_occupied = pd.DataFrame(hybrid_occupied, columns=['car_id', 'start', 'end', 'duration'])\n",
    "electric_occupied = pd.DataFrame(electric_occupied, columns=['car_id', 'start', 'end', 'duration'])\n",
    "hybrid_parked = pd.DataFrame(hybrid_parked, columns=['car_id', 'start', 'end', 'duration'])\n",
    "electric_parked = pd.DataFrame(electric_parked, columns=['car_id', 'start', 'end', 'duration'])"
   ]
  },
  {
   "cell_type": "code",
   "execution_count": null,
   "metadata": {
    "collapsed": true
   },
   "outputs": [],
   "source": [
    "# Filtrando tempo de ocupação e tempo de ociosidade de carros normais\n",
    "normal_cars_occupied = []\n",
    "\n",
    "for i in range(len(Occupied_Diff)):\n",
    "    if (Occupied_Diff['car_id'].iloc[i] not in list(electric['car_id'])):\n",
    "        normal_cars_occupied.append([Occupied_Diff['car_id'].iloc[i], Occupied_Diff['start'].iloc[i], \n",
    "                                    Occupied_Diff['end'].iloc[i], Occupied_Diff['duration'].iloc[i]])\n",
    "\n",
    "normal_cars_occupied = pd.DataFrame(normal_cars_occupied, columns=['car_id', 'start', 'end', 'duration'])\n",
    "\n",
    "\n",
    "normal_cars_parked = []\n",
    "\n",
    "for i in range(len(Parked_Diff)):\n",
    "    if (Parked_Diff['car_id'].iloc[i] not in list(electric['car_id'])):\n",
    "        normal_cars_parked.append([Parked_Diff['car_id'].iloc[i], Parked_Diff['start'].iloc[i], \n",
    "                                    Parked_Diff['end'].iloc[i], Parked_Diff['duration'].iloc[i]])\n",
    "\n",
    "normal_cars_parked = pd.DataFrame(normal_cars_parked, columns=['car_id', 'start', 'end', 'duration'])\n"
   ]
  },
  {
   "cell_type": "markdown",
   "metadata": {},
   "source": [
    "## Plotagem dos CDFs."
   ]
  },
  {
   "cell_type": "code",
   "execution_count": null,
   "metadata": {
    "collapsed": true
   },
   "outputs": [],
   "source": [
    "def cdf(df):\n",
    "    \"\"\"\n",
    "    Calcula valores de todas as coordenadas (x,y) para uma CDF.\n",
    "    \n",
    "    Parameters\n",
    "    -----------\n",
    "    df : float list, pandas.DataFrame\n",
    "        Lista de valores de durações para ser feita a CDF.\n",
    "    \n",
    "    Returns\n",
    "    ---------\n",
    "    x, y: float list\n",
    "        Lista de todas as coordenadas da CDF.\n",
    "        \n",
    "    \"\"\"\n",
    "    \n",
    "    df = df.sort_values(by='duration')\n",
    "    values = df['duration']\n",
    "    \n",
    "    x = []\n",
    "    y = []\n",
    "\n",
    "    total = float(len(values))\n",
    "    cnt = 0\n",
    "    last = values.iloc[0]\n",
    "    for data in values:\n",
    "        if data != last:\n",
    "            x.append(last)\n",
    "            y.append(cnt/total)\n",
    "            cnt += 1\n",
    "            last = data\n",
    "        else:\n",
    "            cnt += 1\n",
    "    x.append(last)\n",
    "    y.append(cnt/total)\n",
    "    \n",
    "    return x, y"
   ]
  },
  {
   "cell_type": "code",
   "execution_count": null,
   "metadata": {},
   "outputs": [],
   "source": [
    "# CDF Ocupado de carros elétricos \n",
    "x, y = cdf(electric_occupied.sort_values(by='duration'))\n",
    "plt.plot(x,y)"
   ]
  },
  {
   "cell_type": "code",
   "execution_count": null,
   "metadata": {},
   "outputs": [],
   "source": [
    "# CDF Ociosidade de carros elétricos\n",
    "x, y = cdf(electric_parked.sort_values(by='duration'))\n",
    "plt.plot(x,y)"
   ]
  },
  {
   "cell_type": "code",
   "execution_count": null,
   "metadata": {},
   "outputs": [],
   "source": [
    "# CDF Ocupação de carros Híbridos\n",
    "x, y = cdf(hybrid_occupied.sort_values(by='duration'))\n",
    "plt.plot(x,y)"
   ]
  },
  {
   "cell_type": "code",
   "execution_count": null,
   "metadata": {},
   "outputs": [],
   "source": [
    "# CDF Ociosidade de carros Híbridos\n",
    "x, y = cdf(hybrid_parked.sort_values(by=['duration']))\n",
    "plt.plot(x,y)"
   ]
  },
  {
   "cell_type": "code",
   "execution_count": null,
   "metadata": {},
   "outputs": [],
   "source": [
    "# CDF Ocupação de carros normais\n",
    "x, y = cdf(normal_cars_occupied.sort_values(by=['duration']))\n",
    "plt.plot(x,y)"
   ]
  },
  {
   "cell_type": "code",
   "execution_count": null,
   "metadata": {},
   "outputs": [],
   "source": [
    "# CDF Viagens de carros normais\n",
    "x, y = cdf(normal_cars_parked.sort_values(by='duration'))\n",
    "plt.plot(x,y)"
   ]
  },
  {
   "cell_type": "code",
   "execution_count": null,
   "metadata": {
    "collapsed": true
   },
   "outputs": [],
   "source": [
    "# Lendo dados após fitting\n",
    "\n",
    "ocioso_pareto = pd.read_csv('ocioso_pareto.csv', usecols=[1,2])\n",
    "ocioso_weibull = pd.read_csv('ocioso_weibull.csv', usecols=[1,2])\n",
    "ocupado_pareto = pd.read_csv('ocupado_pareto.csv', usecols=[1,2])\n",
    "ocupado_weibull = pd.read_csv('ocupado_weibull.csv', usecols=[1,2])"
   ]
  },
  {
   "cell_type": "code",
   "execution_count": null,
   "metadata": {
    "collapsed": true
   },
   "outputs": [],
   "source": [
    "# Selecionando somente os valores menores ou iguais a 5400 minutos\n",
    "\n",
    "normal_cars_occupied = normal_cars_occupied[normal_cars_occupied['duration'] <= 5400]\n",
    "normal_cars_parked = normal_cars_parked[normal_cars_parked['duration'] <= 5400]\n",
    "electric_occupied = electric_occupied[electric_occupied['duration'] <= 5400]\n",
    "electric_parked = electric_parked[electric_parked['duration'] <= 5400]\n",
    "hybrid_occupied = hybrid_occupied[hybrid_occupied['duration'] <= 5400]\n",
    "hybrid_parked = hybrid_parked[hybrid_parked['duration'] <= 5400]"
   ]
  },
  {
   "cell_type": "code",
   "execution_count": null,
   "metadata": {
    "collapsed": true
   },
   "outputs": [],
   "source": [
    "\n",
    "\n",
    "fig, (ax1, ax2) = plt.subplots(1,2)\n",
    "\n",
    "fig.set_size_inches(14,4.5)\n",
    "\n",
    "# Plot do tempo ocupado\n",
    "\n",
    "x, y = cdf(normal_cars_occupied.sort_values(by=['duration']))\n",
    "ax1.plot(x,y, label='Comuns', marker='o', markevery=[50, 300, 750, 1700, 3000, 4000, 4300, 4500, 4620])\n",
    "\n",
    "\n",
    "x, y = cdf(electric_occupied.sort_values(by='duration'))\n",
    "ax1.plot(x,y, label='Elétricos', marker='^', markevery=[5, 60, 95, 130, 145, 155, 158, 160])\n",
    "\n",
    "\n",
    "x, y = cdf(hybrid_occupied.sort_values(by='duration'))\n",
    "ax1.plot(x,y, label='Híbridos', marker='s', markevery=[150, 450, 900, 1400, 1800, 2000, 2070, 2080])\n",
    "\n",
    "ax1.plot(ocupado_pareto['x'], ocupado_pareto['y'], label='Fitted Pareto', linestyle='--')\n",
    "\n",
    "ax1.plot(ocupado_weibull['x'], ocupado_weibull['y'], label='Fitted Weibull', c='black', linestyle=':')\n",
    "\n",
    "ax1.grid(b=True, linestyle='--')\n",
    "\n",
    "# Modificando os labels dos minutos\n",
    "ax1.xaxis.set_ticks(np.arange(0, 6000, 720))\n",
    "\n",
    "fig.canvas.draw()\n",
    "\n",
    "labels = [item.get_text() for item in ax1.get_xticklabels()]\n",
    "labels = range(0,100,12)\n",
    "\n",
    "ax1.set_xticklabels(labels)\n",
    "\n",
    "ax1.legend(bbox_to_anchor=(0.65, 0.35), loc=2, borderaxespad=0.2)\n",
    "ax1.set_ylabel('ECDF')\n",
    "ax1.set_xlabel('Tempo Ocupado [horas]')\n",
    "\n",
    "\n",
    "# Plot do tempo ocioso\n",
    "\n",
    "x, y = cdf(normal_cars_parked.sort_values(by='duration'))\n",
    "ax2.plot(x,y, label='Comuns', marker='o', markevery=[100, 900, 1600, 3400, 5200, 7200, 7700, 8230, 8450])\n",
    "\n",
    "x, y = cdf(electric_parked.sort_values(by='duration'))\n",
    "ax2.plot(x,y, label='Elétricos', marker='^', markevery=[5, 40, 75, 90, 110, 130, 145, 162, 170])\n",
    "\n",
    "x, y = cdf(hybrid_parked.sort_values(by='duration'))\n",
    "ax2.plot(x,y, label='Híbridos', marker='s', markevery=[25, 350, 1200, 1900, 2700, 3120, 3180])\n",
    "\n",
    "ax2.plot(ocioso_pareto['x'], ocioso_pareto['y'], label='Fitted Pareto', linestyle='--')\n",
    "\n",
    "ax2.plot(ocioso_weibull['x'], ocioso_weibull['y'], label='Fitted Weibull', c='black', linestyle=':')\n",
    "\n",
    "ax2.grid(b=True, linestyle='--')\n",
    "\n",
    "# Modificando os labels dos minutos para horas\n",
    "ax2.xaxis.set_ticks(np.arange(0, 6000, 720))\n",
    "\n",
    "fig.canvas.draw()\n",
    "\n",
    "labels = [item.get_text() for item in ax2.get_xticklabels()]\n",
    "labels = range(0,100,12)\n",
    "\n",
    "ax2.set_xticklabels(labels)\n",
    "\n",
    "ax2.legend(bbox_to_anchor=(0.65, 0.35), loc=2, borderaxespad=0.2)\n",
    "ax2.set_ylabel('ECDF')\n",
    "ax2.set_xlabel('Tempo Ocioso [horas]')\n",
    "\n",
    "plt.savefig('CDFs.pdf', bbox_inches='tight')"
   ]
  },
  {
   "cell_type": "markdown",
   "metadata": {},
   "source": [
    "## Tarde e noite para dias de semana"
   ]
  },
  {
   "cell_type": "code",
   "execution_count": null,
   "metadata": {
    "collapsed": true
   },
   "outputs": [],
   "source": [
    "tarde = []\n",
    "noite = []\n",
    "\n",
    "for i in range(len(Occupied_Diff)):\n",
    "    start = Occupied_Diff['start'].iloc[i]\n",
    "    hora = datetime.datetime.fromtimestamp(start).hour\n",
    "    dia = int(datetime.datetime.fromtimestamp(start).strftime('%w'))\n",
    "    \n",
    "    if ((hora >= 11 and hora <= 13) and (dia > 0  and dia < 6)):\n",
    "        tarde.append([Occupied_Diff['car_id'].iloc[i], Occupied_Diff['start'].iloc[i], \n",
    "                      Occupied_Diff['duration'].iloc[i]])\n",
    "    \n",
    "    elif ((hora >= 18 and hora <= 19) and (dia > 0  and dia < 6)):\n",
    "        noite.append([Occupied_Diff['car_id'].iloc[i], Occupied_Diff['start'].iloc[i], \n",
    "                      Occupied_Diff['duration'].iloc[i]])\n",
    "\n",
    "tarde = pd.DataFrame(tarde, columns=['car_id', 'start', 'duration'])\n",
    "noite = pd.DataFrame(noite, columns=['car_id', 'start', 'duration'])"
   ]
  },
  {
   "cell_type": "code",
   "execution_count": null,
   "metadata": {
    "collapsed": true
   },
   "outputs": [],
   "source": [
    "# Durações menores que 66 horas\n",
    "tarde = tarde[tarde['duration'] < 4000]\n",
    "noite = noite[noite['duration'] < 4000]"
   ]
  },
  {
   "cell_type": "code",
   "execution_count": null,
   "metadata": {},
   "outputs": [],
   "source": [
    "x, y = cdf(tarde.sort_values(by='duration'))\n",
    "plt.plot(x,y)"
   ]
  },
  {
   "cell_type": "code",
   "execution_count": null,
   "metadata": {
    "scrolled": true
   },
   "outputs": [],
   "source": [
    "x, y = cdf(noite.sort_values(by='duration'))\n",
    "plt.plot(x,y)"
   ]
  },
  {
   "cell_type": "code",
   "execution_count": null,
   "metadata": {
    "collapsed": true
   },
   "outputs": [],
   "source": [
    "# Durações menores ou iguais que 28 horas\n",
    "tarde = tarde[tarde['duration'] <= 28*60]\n",
    "noite = noite[noite['duration'] <= 28*60]\n",
    "todos = Occupied_Diff[Occupied_Diff['duration'] <= 28*60]"
   ]
  },
  {
   "cell_type": "code",
   "execution_count": null,
   "metadata": {},
   "outputs": [],
   "source": [
    "import matplotlib\n",
    "\n",
    "matplotlib.rc('font', size=12)\n",
    "\n",
    "fig, ax = plt.subplots()\n",
    "\n",
    "x, y = cdf(tarde.sort_values(by='duration'))\n",
    "ax.plot(x,y, label='11h a 13h', marker='o')#, markevery=[30,140,280,400,580,800,960,1010,1100])\n",
    "\n",
    "x, y = cdf(noite.sort_values(by='duration'))\n",
    "ax.plot(x,y, label='18h a 19h', marker='s')#, markevery=[30,60,120,190,280,340,392,400,406])\n",
    "\n",
    "x, y = cdf(todos.sort_values(by='duration'))\n",
    "ax.plot(x,y, label='Dia todo', marker='^')#, markevery=[20,120,350,600,960,1400,2200,2800,3600,4300,4550])\n",
    "\n",
    "# Modificando os labels dos minutos\n",
    "ax.xaxis.set_ticks(np.arange(0, 1800, 180))\n",
    "\n",
    "fig.canvas.draw()\n",
    "\n",
    "labels = [item.get_text() for item in ax.get_xticklabels()]\n",
    "labels = range(0,30,3)\n",
    "\n",
    "ax.set_xticklabels(labels)\n",
    "\n",
    "ax.legend(bbox_to_anchor=(0.65, 0.3), loc=2, borderaxespad=0.2)\n",
    "ax.set_ylabel('ECDF')\n",
    "ax.set_xlabel('Tempo Ocupado [horas]')\n",
    "\n",
    "plt.savefig('tarde_noiteCDF.pdf')"
   ]
  },
  {
   "cell_type": "code",
   "execution_count": null,
   "metadata": {
    "collapsed": true
   },
   "outputs": [],
   "source": []
  }
 ],
 "metadata": {
  "kernelspec": {
   "display_name": "Python 3",
   "language": "python",
   "name": "python3"
  },
  "language_info": {
   "codemirror_mode": {
    "name": "ipython",
    "version": 3
   },
   "file_extension": ".py",
   "mimetype": "text/x-python",
   "name": "python",
   "nbconvert_exporter": "python",
   "pygments_lexer": "ipython3",
   "version": "3.6.1"
  }
 },
 "nbformat": 4,
 "nbformat_minor": 2
}
