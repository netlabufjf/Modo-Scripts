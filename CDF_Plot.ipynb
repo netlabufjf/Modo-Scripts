{
 "cells": [
  {
   "cell_type": "code",
   "execution_count": 1,
   "metadata": {
    "collapsed": true
   },
   "outputs": [],
   "source": [
    "%matplotlib inline\n",
    "import pandas as pd\n",
    "import urllib as ur\n",
    "import json\n",
    "import datetime\n",
    "import matplotlib.pyplot as plt\n",
    "import matplotlib\n",
    "import numpy as np"
   ]
  },
  {
   "cell_type": "markdown",
   "metadata": {},
   "source": [
    "## Requisitando os carros e filtrando com base do seu tipo (normais, elétricos e híbridos)."
   ]
  },
  {
   "cell_type": "markdown",
   "metadata": {},
   "source": [
    "Iremos coletar os ids de cada veículos e separá-los em movidos a gasolina, elétrico e híbrido.\n",
    "Tal classificação tem como objetivo verificar o comportamento de uso para cada tipo de veículo."
   ]
  },
  {
   "cell_type": "code",
   "execution_count": 2,
   "metadata": {
    "collapsed": true
   },
   "outputs": [],
   "source": [
    "# Requisição a lista de carros e suas informações\n",
    "response = ur.request.urlopen('https://bookit.modo.coop/api/v2/car_list').read().decode('UTF-8')\n",
    "json_cars = json.loads(response)"
   ]
  },
  {
   "cell_type": "code",
   "execution_count": 3,
   "metadata": {
    "collapsed": true
   },
   "outputs": [],
   "source": [
    "# Adquirindo os ids de todos os carros\n",
    "car_ids = list(json_cars['Response']['Cars'].keys())"
   ]
  },
  {
   "cell_type": "code",
   "execution_count": 4,
   "metadata": {
    "collapsed": true
   },
   "outputs": [],
   "source": [
    "electric = []\n",
    "\n",
    "# Separando por carro o seu tipo, sendo hibrido ou elétrico\n",
    "for car in car_ids:\n",
    "    try:\n",
    "        accessories = list(json_cars['Response']['Cars'][str(car)]['Accessories'])\n",
    "\n",
    "        if ('hybrid' in accessories):\n",
    "            electric.append([int(car), 'hybrid'])\n",
    "        if ('electric car' in accessories):\n",
    "            electric.append([int(car), 'electric'])\n",
    "    except:\n",
    "        continue\n",
    "        \n",
    "# Lista com todos os veiculos elétricos e hibridos\n",
    "electric = pd.DataFrame(electric, columns=['car_id', 'type'])"
   ]
  },
  {
   "cell_type": "markdown",
   "metadata": {},
   "source": [
    "## Coletando a duração de cada viagem para carros normais, elétricos e híbridos."
   ]
  },
  {
   "cell_type": "code",
   "execution_count": 5,
   "metadata": {
    "scrolled": true
   },
   "outputs": [],
   "source": [
    "# Lendo csv de intervalos de ociosidade e ocupação\n",
    "dfOccupied = pd.read_csv('../paper/data/occupied_duration.csv')\n",
    "dfParked = pd.read_csv('../paper/data/parked_duration.csv')"
   ]
  },
  {
   "cell_type": "code",
   "execution_count": 8,
   "metadata": {
    "collapsed": true
   },
   "outputs": [],
   "source": [
    "def Hour_Diff(h1,h2):\n",
    "    \"\"\"\n",
    "    Faz a diferença entre duas horas dadas e retorna em minutos\n",
    "    \n",
    "    Parameters\n",
    "    ----------\n",
    "    h1, h2 : unix timestamp\n",
    "        Hora inicio e fim para ser feito o cálculo da diferença\n",
    "        \n",
    "    Returns\n",
    "    ---------\n",
    "    diff : float\n",
    "        Diferença entre as duas horas dadas em minutos\n",
    "        \n",
    "    \"\"\"\n",
    "    \n",
    "    h1Aux = datetime.datetime.fromtimestamp(h1)\n",
    "    h2Aux = datetime.datetime.fromtimestamp(h2)\n",
    "    diff = abs((h1Aux - h2Aux)).total_seconds()/60\n",
    "    \n",
    "    return diff"
   ]
  },
  {
   "cell_type": "code",
   "execution_count": 9,
   "metadata": {},
   "outputs": [],
   "source": [
    "# Filtra os intervalos de ocupação dos carros híbridos e elétricos\n",
    "\n",
    "electric_occupied = []\n",
    "hybrid_occupied = []\n",
    "\n",
    "for i in range(len(electric)):\n",
    "    occupied = dfOccupied[dfOccupied['car_id'] == electric['car_id'].iloc[i]]\n",
    "\n",
    "    if (electric['type'].iloc[i] == 'hybrid'):\n",
    "        for j in range(len(occupied)):\n",
    "            hybrid_occupied.append([occupied['car_id'].iloc[j] ,occupied['start'].iloc[j], \n",
    "                                   occupied['end'].iloc[j],occupied['duration'].iloc[j]])\n",
    "        continue\n",
    "    if (electric['type'].iloc[i] == 'electric'):\n",
    "        for j in range(len(occupied)):\n",
    "            electric_occupied.append([occupied['car_id'].iloc[j] ,occupied['start'].iloc[j], \n",
    "                                     occupied['end'].iloc[j], occupied['duration'].iloc[j]])\n",
    "        continue\n",
    "\n",
    "hybrid_occupied = pd.DataFrame(hybrid_occupied, columns=['car_id', 'start', 'end', 'duration'])\n",
    "electric_occupied = pd.DataFrame(electric_occupied, columns=['car_id', 'start', 'end', 'duration'])\n",
    "\n",
    "# Filtra o tempo de ociosidade dos carros híbridos e elétricos\n",
    "\n",
    "electric_parked = []\n",
    "hybrid_parked = []\n",
    "\n",
    "for i in range(len(electric)):\n",
    "    parked = dfParked[dfParked['car_id'] == electric['car_id'].iloc[i]]\n",
    "\n",
    "    if (electric['type'].iloc[i] == 'hybrid'):\n",
    "        for j in range(len(parked)):\n",
    "            hybrid_parked.append([parked['car_id'].iloc[j] ,parked['start'].iloc[j], \n",
    "                                  parked['end'].iloc[j], parked['duration'].iloc[j]])\n",
    "        continue\n",
    "    if (electric['type'].iloc[i] == 'electric'):\n",
    "        for j in range(len(parked)):\n",
    "            electric_parked.append([parked['car_id'].iloc[j] ,parked['start'].iloc[j], \n",
    "                                    parked['end'].iloc[j], parked['duration'].iloc[j]])\n",
    "        continue\n",
    "\n",
    "hybrid_occupied = pd.DataFrame(hybrid_occupied, columns=['car_id', 'start', 'end', 'duration'])\n",
    "electric_occupied = pd.DataFrame(electric_occupied, columns=['car_id', 'start', 'end', 'duration'])\n",
    "hybrid_parked = pd.DataFrame(hybrid_parked, columns=['car_id', 'start', 'end', 'duration'])\n",
    "electric_parked = pd.DataFrame(electric_parked, columns=['car_id', 'start', 'end', 'duration'])"
   ]
  },
  {
   "cell_type": "code",
   "execution_count": 10,
   "metadata": {
    "collapsed": true
   },
   "outputs": [],
   "source": [
    "# Filtrando tempo de ocupação e tempo de ociosidade de carros normais\n",
    "normal_cars_occupied = []\n",
    "\n",
    "for i in range(len(dfOccupied)):\n",
    "    # Se o veiculo não está na lista dos elétricos e hibridos ele é a gasolina\n",
    "    if (dfOccupied['car_id'].iloc[i] not in list(electric['car_id'])):\n",
    "        normal_cars_occupied.append([dfOccupied['car_id'].iloc[i], dfOccupied['start'].iloc[i], \n",
    "                                    dfOccupied['end'].iloc[i], dfOccupied['duration'].iloc[i]])\n",
    "\n",
    "normal_cars_occupied = pd.DataFrame(normal_cars_occupied, columns=['car_id', 'start', 'end', 'duration'])\n",
    "\n",
    "\n",
    "normal_cars_parked = []\n",
    "\n",
    "for i in range(len(dfParked)):\n",
    "    # Se o veiculo não está na lista dos elétricos e hibridos ele é a gasolina\n",
    "    if (dfParked['car_id'].iloc[i] not in list(electric['car_id'])):\n",
    "        normal_cars_parked.append([dfParked['car_id'].iloc[i], dfParked['start'].iloc[i], \n",
    "                                    dfParked['end'].iloc[i], dfParked['duration'].iloc[i]])\n",
    "\n",
    "normal_cars_parked = pd.DataFrame(normal_cars_parked, columns=['car_id', 'start', 'end', 'duration'])\n"
   ]
  },
  {
   "cell_type": "markdown",
   "metadata": {},
   "source": [
    "## Plotagem dos CDFs."
   ]
  },
  {
   "cell_type": "markdown",
   "metadata": {},
   "source": [
    "Iremos plotar curvas de distribuições acumuladas a fim de verificar mais claramente a porcentagem de veículos ocupados para até dada duração de tempo de ocupação."
   ]
  },
  {
   "cell_type": "code",
   "execution_count": 11,
   "metadata": {
    "collapsed": true
   },
   "outputs": [],
   "source": [
    "def cdf(df):\n",
    "    \"\"\"\n",
    "    Calcula valores de todas as coordenadas (x,y) para uma CDF.\n",
    "    \n",
    "    Parameters\n",
    "    -----------\n",
    "    df : float list, pandas.DataFrame\n",
    "        Lista de valores de durações para ser feita a CDF.\n",
    "    \n",
    "    Returns\n",
    "    ---------\n",
    "    x, y: float list\n",
    "        Lista de todas as coordenadas da CDF.\n",
    "        \n",
    "    \"\"\"\n",
    "    \n",
    "    df = df.sort_values(by='duration')\n",
    "    values = df['duration']\n",
    "    \n",
    "    x = []\n",
    "    y = []\n",
    "\n",
    "    total = float(len(values))\n",
    "    cnt = 0\n",
    "    last = values.iloc[0]\n",
    "    for data in values:\n",
    "        if data != last:\n",
    "            x.append(last)\n",
    "            y.append(cnt/total)\n",
    "            cnt += 1\n",
    "            last = data\n",
    "        else:\n",
    "            cnt += 1\n",
    "    x.append(last)\n",
    "    y.append(cnt/total)\n",
    "    \n",
    "    return x, y"
   ]
  },
  {
   "cell_type": "code",
   "execution_count": 10,
   "metadata": {},
   "outputs": [
    {
     "data": {
      "text/plain": [
       "[<matplotlib.lines.Line2D at 0x7fc9670c59b0>]"
      ]
     },
     "execution_count": 10,
     "metadata": {},
     "output_type": "execute_result"
    },
    {
     "data": {
      "image/png": "[encoded data removed]",
      "text/plain": [
       "<Figure size 432x288 with 1 Axes>"
      ]
     },
     "metadata": {},
     "output_type": "display_data"
    }
   ],
   "source": [
    "# CDF Ocupado de carros elétricos \n",
    "x, y = cdf(electric_occupied.sort_values(by='duration'))\n",
    "plt.plot(x,y)"
   ]
  },
  {
   "cell_type": "code",
   "execution_count": 11,
   "metadata": {},
   "outputs": [
    {
     "data": {
      "text/plain": [
       "[<matplotlib.lines.Line2D at 0x7fc966feba20>]"
      ]
     },
     "execution_count": 11,
     "metadata": {},
     "output_type": "execute_result"
    },
    {
     "data": {
      "image/png": "[encoded data removed]",
      "text/plain": [
       "<Figure size 432x288 with 1 Axes>"
      ]
     },
     "metadata": {},
     "output_type": "display_data"
    }
   ],
   "source": [
    "# CDF Ociosidade de carros elétricos\n",
    "x, y = cdf(electric_parked.sort_values(by='duration'))\n",
    "plt.plot(x,y)"
   ]
  },
  {
   "cell_type": "code",
   "execution_count": 12,
   "metadata": {},
   "outputs": [
    {
     "data": {
      "text/plain": [
       "[<matplotlib.lines.Line2D at 0x7fc966215240>]"
      ]
     },
     "execution_count": 12,
     "metadata": {},
     "output_type": "execute_result"
    },
    {
     "data": {
      "image/png": "[encoded data removed]",
      "text/plain": [
       "<Figure size 432x288 with 1 Axes>"
      ]
     },
     "metadata": {},
     "output_type": "display_data"
    }
   ],
   "source": [
    "# CDF Ocupação de carros Híbridos\n",
    "x, y = cdf(hybrid_occupied.sort_values(by='duration'))\n",
    "plt.plot(x,y)"
   ]
  },
  {
   "cell_type": "code",
   "execution_count": 13,
   "metadata": {},
   "outputs": [
    {
     "data": {
      "text/plain": [
       "[<matplotlib.lines.Line2D at 0x7fc966f20048>]"
      ]
     },
     "execution_count": 13,
     "metadata": {},
     "output_type": "execute_result"
    },
    {
     "data": {
      "image/png": "[encoded data removed]",
      "text/plain": [
       "<Figure size 432x288 with 1 Axes>"
      ]
     },
     "metadata": {},
     "output_type": "display_data"
    }
   ],
   "source": [
    "# CDF Ociosidade de carros Híbridos\n",
    "x, y = cdf(hybrid_parked.sort_values(by=['duration']))\n",
    "plt.plot(x,y)"
   ]
  },
  {
   "cell_type": "code",
   "execution_count": 14,
   "metadata": {},
   "outputs": [
    {
     "data": {
      "text/plain": [
       "[<matplotlib.lines.Line2D at 0x7fc967008f28>]"
      ]
     },
     "execution_count": 14,
     "metadata": {},
     "output_type": "execute_result"
    },
    {
     "data": {
      "image/png": "[encoded data removed]",
      "text/plain": [
       "<Figure size 432x288 with 1 Axes>"
      ]
     },
     "metadata": {},
     "output_type": "display_data"
    }
   ],
   "source": [
    "# CDF Ocupação de carros normais\n",
    "x, y = cdf(normal_cars_occupied.sort_values(by=['duration']))\n",
    "plt.plot(x,y)"
   ]
  },
  {
   "cell_type": "code",
   "execution_count": 15,
   "metadata": {},
   "outputs": [
    {
     "data": {
      "text/plain": [
       "[<matplotlib.lines.Line2D at 0x7fc9663a2390>]"
      ]
     },
     "execution_count": 15,
     "metadata": {},
     "output_type": "execute_result"
    },
    {
     "data": {
      "image/png": "[encoded data removed]",
      "text/plain": [
       "<Figure size 432x288 with 1 Axes>"
      ]
     },
     "metadata": {},
     "output_type": "display_data"
    }
   ],
   "source": [
    "# CDF Viagens de carros normais\n",
    "x, y = cdf(normal_cars_parked.sort_values(by='duration'))\n",
    "plt.plot(x,y)"
   ]
  },
  {
   "cell_type": "code",
   "execution_count": 32,
   "metadata": {},
   "outputs": [],
   "source": [
    "# Lendo dados após fitting\n",
    "\n",
    "ocioso_pareto = pd.read_csv('Estacionado/1_pareto.csv', usecols=[1,2])\n",
    "ocioso_weibull = pd.read_csv('Estacionado/1_weibull.csv', usecols=[1,2])\n",
    "ocupado_pareto = pd.read_csv('Ocupado/1_pareto.csv', usecols=[1,2])\n",
    "ocupado_weibull = pd.read_csv('Ocupado/1_weibull.csv', usecols=[1,2])\n",
    "# ocupado_normal = pd.read_csv('Ocupado/1_lnorm.csv', usecols=[1,2])"
   ]
  },
  {
   "cell_type": "code",
   "execution_count": 12,
   "metadata": {
    "collapsed": true
   },
   "outputs": [],
   "source": [
    "# Selecionando somente os valores menores ou iguais a 5400 minutos\n",
    "# assim padronizando as curvas a fim de facilitar a visualização e desconsiderar outliers\n",
    "\n",
    "normal_cars_occupied = normal_cars_occupied[normal_cars_occupied['duration'] <= 5400]\n",
    "normal_cars_parked = normal_cars_parked[normal_cars_parked['duration'] <= 5400]\n",
    "electric_occupied = electric_occupied[electric_occupied['duration'] <= 5400]\n",
    "electric_parked = electric_parked[electric_parked['duration'] <= 5400]\n",
    "hybrid_occupied = hybrid_occupied[hybrid_occupied['duration'] <= 5400]\n",
    "hybrid_parked = hybrid_parked[hybrid_parked['duration'] <= 5400]\n",
    "# ocioso_pareto = ocioso_pareto[ocioso_pareto['x'] <= 5400]\n",
    "# ocioso_weibull = ocioso_weibull[ocioso_weibull['x'] <= 5400]\n",
    "# ocupado_pareto = ocupado_pareto[ocupado_pareto['x'] <= 5400]\n",
    "# ocupado_weibull = ocupado_weibull[ocupado_weibull['x'] <= 5400]\n",
    "# ocupado_normal = ocupado_normal[ocupado_normal['x'] <= 5400]"
   ]
  },
  {
   "cell_type": "code",
   "execution_count": 25,
   "metadata": {},
   "outputs": [
    {
     "data": {
      "image/png": "[encoded data removed]",
      "text/plain": [
       "<Figure size 1008x324 with 2 Axes>"
      ]
     },
     "metadata": {},
     "output_type": "display_data"
    }
   ],
   "source": [
    "fig, (ax1, ax2) = plt.subplots(1,2)\n",
    "\n",
    "fig.set_size_inches(14,4.5)\n",
    "# Plot do tempo ocupado\n",
    "\n",
    "x, y = cdf(normal_cars_occupied.sort_values(by=['duration']))\n",
    "ax1.plot(x,y, label='Common')#, marker='o')#, markevery=[470,1000,1800,2500,3600,5000,6300,7200,\n",
    "                                          #           7350,7400,7500])\n",
    "\n",
    "\n",
    "x, y = cdf(electric_occupied.sort_values(by='duration'))\n",
    "ax1.plot(x,y, label='Electric')#, marker='^')#, markevery=[10,35,70,90,130,150,170,190,195,198,\n",
    "                                             #           200,201])\n",
    "\n",
    "\n",
    "x, y = cdf(hybrid_occupied.sort_values(by='duration'))\n",
    "ax1.plot(x,y, label='Hybrid')#, marker='s')#, markevery=[150,450,750,1200,1800,2500,3000,3300,\n",
    "                                            #           3500,3520,3540,3570])\n",
    "\n",
    "# ax1.plot(ocupado_pareto['x'], ocupado_pareto['y'], label='Fitted Pareto', linestyle='--')\n",
    "\n",
    "# ax1.plot(ocupado_weibull['x'], ocupado_weibull['y'], label='Fitted Weibull', c='black', linestyle=':')\n",
    "\n",
    "# ax1.plot(ocupado_normal['x'], ocupado_normal['y'], label='Fitted Normal', c='purple', linestyle='-.')\n",
    "\n",
    "# Modificando os labels dos minutos\n",
    "ax1.xaxis.set_ticks(np.arange(0, 6000, 720))\n",
    "\n",
    "fig.canvas.draw()\n",
    "\n",
    "labels = [item.get_text() for item in ax1.get_xticklabels()]\n",
    "labels = range(0,100,12)\n",
    "\n",
    "ax1.set_xticklabels(labels)\n",
    "\n",
    "ax1.legend(loc=4, borderaxespad=0.2, frameon=False)\n",
    "ax1.set_ylabel('ECDF of rental duration')\n",
    "ax1.set_xlabel('Busy Time [minutes]')\n",
    "ax1.set_xlim(min(x),max(x))\n",
    "ax1.set_ylim(0,1)\n",
    "\n",
    "\n",
    "# Plot do tempo ocioso\n",
    "\n",
    "x, y = cdf(normal_cars_parked.sort_values(by='duration'))\n",
    "ax2.plot(x,y, label='Common')#, marker='o')#, markevery=[100,900,1800,3400,5500,7200,9100,10700,\n",
    "                                                   #  11800,12500,13050])\n",
    "\n",
    "x, y = cdf(electric_parked.sort_values(by='duration'))\n",
    "ax2.plot(x,y, label='Electric')#, marker='^')#, markevery=[25,83,100,120,145,170,190,200,206,210])\n",
    "\n",
    "x, y = cdf(hybrid_parked.sort_values(by='duration'))\n",
    "ax2.plot(x,y, label='Hybrid')#, marker='s', markevery=[150,650,1200,2000,2900,3800,4400,4750,\n",
    "                                                    #   5080,5180,5250])\n",
    "\n",
    "# ax2.plot(ocioso_pareto['x'], ocioso_pareto['y'], label='Fitted Pareto', linestyle='--')\n",
    "\n",
    "# ax2.plot(ocioso_weibull['x'], ocioso_weibull['y'], label='Fitted Weibull', c='black', linestyle=':')\n",
    "\n",
    "\n",
    "# Modificando os labels dos minutos para horas\n",
    "ax2.xaxis.set_ticks(np.arange(0, 6000, 720))\n",
    "\n",
    "fig.canvas.draw()\n",
    "\n",
    "labels = [item.get_text() for item in ax2.get_xticklabels()]\n",
    "labels = range(0,100,12)\n",
    "\n",
    "ax2.set_xticklabels(labels)\n",
    "\n",
    "ax2.legend(loc=4, borderaxespad=0.2, frameon=False)\n",
    "ax2.set_ylabel('ECDF of rental duration')\n",
    "ax2.set_xlabel('Idle Time [minutes]')\n",
    "\n",
    "# ax1.grid(b=True, linestyle='--')\n",
    "# ax2.grid(b=True, linestyle='--')\n",
    "\n",
    "ax2.set_xlim(min(x),max(x))\n",
    "ax2.set_ylim(0,1)\n",
    "\n",
    "ax1.set_xscale('log')\n",
    "ax2.set_xscale('log')\n",
    "\n",
    "plt.savefig('../paper/plots/CDFs_log.pdf', bbox_inches='tight')"
   ]
  },
  {
   "cell_type": "markdown",
   "metadata": {},
   "source": [
    "## Tarde e noite para dias de semana"
   ]
  },
  {
   "cell_type": "markdown",
   "metadata": {},
   "source": [
    "Estamos separando as reservas que iniciaram em certos horários, que foram observados como de pico em dias de semana, sendo o intervalo de 11 AM até 4 PM e de 7 PM até 8 PM."
   ]
  },
  {
   "cell_type": "code",
   "execution_count": 33,
   "metadata": {
    "collapsed": true
   },
   "outputs": [],
   "source": [
    "tarde = []\n",
    "noite = []\n",
    "\n",
    "for i in range(len(dfOccupied)):\n",
    "    start = dfOccupied['start'].iloc[i]\n",
    "    hora = datetime.datetime.fromtimestamp(start).hour\n",
    "    dia = int(datetime.datetime.fromtimestamp(start).strftime('%w'))\n",
    "    \n",
    "    if ((hora >= 11 and hora <= 16) and (dia > 0 and dia < 6)):\n",
    "        tarde.append([dfOccupied['car_id'].iloc[i], dfOccupied['start'].iloc[i], \n",
    "                      dfOccupied['duration'].iloc[i]])\n",
    "    \n",
    "    elif ((hora >= 19 and hora <= 20) and (dia > 0 and dia < 6)):\n",
    "        noite.append([dfOccupied['car_id'].iloc[i], dfOccupied['start'].iloc[i], \n",
    "                      dfOccupied['duration'].iloc[i]])\n",
    "\n",
    "tarde = pd.DataFrame(tarde, columns=['car_id', 'start', 'duration'])\n",
    "noite = pd.DataFrame(noite, columns=['car_id', 'start', 'duration'])"
   ]
  },
  {
   "cell_type": "code",
   "execution_count": 28,
   "metadata": {
    "collapsed": true
   },
   "outputs": [],
   "source": [
    "# Durações menores que 66 horas\n",
    "tarde = tarde[tarde['duration'] < 4000]\n",
    "noite = noite[noite['duration'] < 4000]"
   ]
  },
  {
   "cell_type": "code",
   "execution_count": 29,
   "metadata": {},
   "outputs": [
    {
     "data": {
      "text/plain": [
       "[<matplotlib.lines.Line2D at 0x7f1c1855b240>]"
      ]
     },
     "execution_count": 29,
     "metadata": {},
     "output_type": "execute_result"
    },
    {
     "data": {
      "image/png": "[encoded data removed]",
      "text/plain": [
       "<Figure size 432x288 with 1 Axes>"
      ]
     },
     "metadata": {},
     "output_type": "display_data"
    }
   ],
   "source": [
    "x, y = cdf(tarde.sort_values(by='duration'))\n",
    "plt.plot(x,y)"
   ]
  },
  {
   "cell_type": "code",
   "execution_count": 30,
   "metadata": {
    "scrolled": true
   },
   "outputs": [
    {
     "data": {
      "text/plain": [
       "[<matplotlib.lines.Line2D at 0x7f1c17ac0e10>]"
      ]
     },
     "execution_count": 30,
     "metadata": {},
     "output_type": "execute_result"
    },
    {
     "data": {
      "image/png": "[encoded data removed]",
      "text/plain": [
       "<Figure size 432x288 with 1 Axes>"
      ]
     },
     "metadata": {},
     "output_type": "display_data"
    }
   ],
   "source": [
    "x, y = cdf(noite.sort_values(by='duration'))\n",
    "plt.plot(x,y)"
   ]
  },
  {
   "cell_type": "code",
   "execution_count": 34,
   "metadata": {
    "collapsed": true
   },
   "outputs": [],
   "source": [
    "# Durações menores ou iguais que 28 horas, a fim de facilitar a visualização e eliminar outliers\n",
    "tarde = tarde[tarde['duration'] <= 28*60]\n",
    "noite = noite[noite['duration'] <= 28*60]\n",
    "todos = dfOccupied[dfOccupied['duration'] <= 28*60]"
   ]
  },
  {
   "cell_type": "code",
   "execution_count": 36,
   "metadata": {},
   "outputs": [
    {
     "data": {
      "image/png": "[encoded data removed]",
      "text/plain": [
       "<Figure size 432x288 with 1 Axes>"
      ]
     },
     "metadata": {},
     "output_type": "display_data"
    }
   ],
   "source": [
    "matplotlib.rc('font', size=12)\n",
    "\n",
    "fig, ax = plt.subplots()\n",
    "\n",
    "x, y = cdf(tarde.sort_values(by='duration'))\n",
    "ax.plot(x,y, label='11AM to 4PM')#, marker='o', markevery=[30,280,530,820,1100,1650,2100,2500,\n",
    "                                                      # 2750,3100,3350,3450])\n",
    "\n",
    "x, y = cdf(noite.sort_values(by='duration'))\n",
    "ax.plot(x,y, label='7PM to 8PM')#, marker='s', markevery=[30,80,120,190,280,340,390,450,465,500])\n",
    "\n",
    "x, y = cdf(todos.sort_values(by='duration'))\n",
    "ax.plot(x,y, label='All day')#, marker='^', markevery=[350,960,1400,2200,2800,3600,4300,5500,\n",
    "                                                     # 6300,7100,7400])\n",
    "\n",
    "# Modificando os labels dos minutos\n",
    "ax.xaxis.set_ticks(np.arange(0, 1800, 180))\n",
    "\n",
    "fig.canvas.draw()\n",
    "\n",
    "labels = [item.get_text() for item in ax.get_xticklabels()]\n",
    "labels = range(0,30,3)\n",
    "\n",
    "ax.set_xticklabels(labels)\n",
    "\n",
    "ax.legend(loc=4, borderaxespad=0.2, frameon=False)\n",
    "ax.set_ylabel('ECDF of rental duration')\n",
    "ax.set_xlabel('Busy Time [minutes]')\n",
    "\n",
    "# plt.grid(b=True, linestyle='--')\n",
    "plt.xscale('log')\n",
    "plt.xlim(min(x),max(x))\n",
    "plt.ylim(0,1)\n",
    "\n",
    "plt.savefig('../paper/plots/tarde_noiteCDF_log.pdf')\n",
    "# plt.show()"
   ]
  },
  {
   "cell_type": "code",
   "execution_count": null,
   "metadata": {},
   "outputs": [],
   "source": []
  }
 ],
 "metadata": {
  "kernelspec": {
   "display_name": "Python 3",
   "language": "python",
   "name": "python3"
  },
  "language_info": {
   "codemirror_mode": {
    "name": "ipython",
    "version": 3
   },
   "file_extension": ".py",
   "mimetype": "text/x-python",
   "name": "python",
   "nbconvert_exporter": "python",
   "pygments_lexer": "ipython3",
   "version": "3.6.1"
  }
 },
 "nbformat": 4,
 "nbformat_minor": 2
}
